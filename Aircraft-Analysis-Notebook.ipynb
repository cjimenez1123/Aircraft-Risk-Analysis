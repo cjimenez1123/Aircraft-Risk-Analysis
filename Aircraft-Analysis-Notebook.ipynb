{
 "cells": [
  {
   "cell_type": "markdown",
   "metadata": {},
   "source": [
    "# Aircraft Risk Analysis"
   ]
  },
  {
   "cell_type": "markdown",
   "metadata": {},
   "source": [
    "## Business Understanding"
   ]
  },
  {
   "cell_type": "markdown",
   "metadata": {},
   "source": [
    "To successfully expand in the area of aviation for both commercial and private uses, the company must mitigate potential risks of aircrafts. In doing so the company can make strategic and informative decisions on what to apply their attention to in order to have a successful practice in aviation, but more importantly keep our clients safe."
   ]
  },
  {
   "cell_type": "markdown",
   "metadata": {},
   "source": [
    "## Data Understanding"
   ]
  },
  {
   "cell_type": "markdown",
   "metadata": {},
   "source": [
    "A dataset from the National Transportation Safety Board that includes aviation accident data from 1962 to 2023 about civil aviation accidents and selected incidents in the United States and international waters. Every aircraft in the data has an ID number to reference and includes information such as Make, Model, weather, purpose of flight and severity of injuries as an outcome."
   ]
  },
  {
   "cell_type": "markdown",
   "metadata": {},
   "source": [
    "## Data Preparation"
   ]
  },
  {
   "cell_type": "markdown",
   "metadata": {},
   "source": [
    "The approach to the dataset is to focus on the accidents that occured after the year 2000, then specifically investigate the  make and models of airplanes and compare them on how many fatal injuries there are in each model."
   ]
  },
  {
   "cell_type": "code",
   "execution_count": 1,
   "metadata": {},
   "outputs": [
    {
     "data": {
      "text/html": [
       "<div>\n",
       "<style scoped>\n",
       "    .dataframe tbody tr th:only-of-type {\n",
       "        vertical-align: middle;\n",
       "    }\n",
       "\n",
       "    .dataframe tbody tr th {\n",
       "        vertical-align: top;\n",
       "    }\n",
       "\n",
       "    .dataframe thead th {\n",
       "        text-align: right;\n",
       "    }\n",
       "</style>\n",
       "<table border=\"1\" class=\"dataframe\">\n",
       "  <thead>\n",
       "    <tr style=\"text-align: right;\">\n",
       "      <th></th>\n",
       "      <th>Event.Id</th>\n",
       "      <th>Investigation.Type</th>\n",
       "      <th>Accident.Number</th>\n",
       "      <th>Event.Date</th>\n",
       "      <th>Location</th>\n",
       "      <th>Country</th>\n",
       "      <th>Latitude</th>\n",
       "      <th>Longitude</th>\n",
       "      <th>Airport.Code</th>\n",
       "      <th>Airport.Name</th>\n",
       "      <th>...</th>\n",
       "      <th>Purpose.of.flight</th>\n",
       "      <th>Air.carrier</th>\n",
       "      <th>Total.Fatal.Injuries</th>\n",
       "      <th>Total.Serious.Injuries</th>\n",
       "      <th>Total.Minor.Injuries</th>\n",
       "      <th>Total.Uninjured</th>\n",
       "      <th>Weather.Condition</th>\n",
       "      <th>Broad.phase.of.flight</th>\n",
       "      <th>Report.Status</th>\n",
       "      <th>Publication.Date</th>\n",
       "    </tr>\n",
       "  </thead>\n",
       "  <tbody>\n",
       "    <tr>\n",
       "      <th>0</th>\n",
       "      <td>20001218X45444</td>\n",
       "      <td>Accident</td>\n",
       "      <td>SEA87LA080</td>\n",
       "      <td>1948-10-24</td>\n",
       "      <td>MOOSE CREEK, ID</td>\n",
       "      <td>United States</td>\n",
       "      <td>NaN</td>\n",
       "      <td>NaN</td>\n",
       "      <td>NaN</td>\n",
       "      <td>NaN</td>\n",
       "      <td>...</td>\n",
       "      <td>Personal</td>\n",
       "      <td>NaN</td>\n",
       "      <td>2.0</td>\n",
       "      <td>0.0</td>\n",
       "      <td>0.0</td>\n",
       "      <td>0.0</td>\n",
       "      <td>UNK</td>\n",
       "      <td>Cruise</td>\n",
       "      <td>Probable Cause</td>\n",
       "      <td>NaN</td>\n",
       "    </tr>\n",
       "    <tr>\n",
       "      <th>1</th>\n",
       "      <td>20001218X45447</td>\n",
       "      <td>Accident</td>\n",
       "      <td>LAX94LA336</td>\n",
       "      <td>1962-07-19</td>\n",
       "      <td>BRIDGEPORT, CA</td>\n",
       "      <td>United States</td>\n",
       "      <td>NaN</td>\n",
       "      <td>NaN</td>\n",
       "      <td>NaN</td>\n",
       "      <td>NaN</td>\n",
       "      <td>...</td>\n",
       "      <td>Personal</td>\n",
       "      <td>NaN</td>\n",
       "      <td>4.0</td>\n",
       "      <td>0.0</td>\n",
       "      <td>0.0</td>\n",
       "      <td>0.0</td>\n",
       "      <td>UNK</td>\n",
       "      <td>Unknown</td>\n",
       "      <td>Probable Cause</td>\n",
       "      <td>19-09-1996</td>\n",
       "    </tr>\n",
       "    <tr>\n",
       "      <th>2</th>\n",
       "      <td>20061025X01555</td>\n",
       "      <td>Accident</td>\n",
       "      <td>NYC07LA005</td>\n",
       "      <td>1974-08-30</td>\n",
       "      <td>Saltville, VA</td>\n",
       "      <td>United States</td>\n",
       "      <td>36.922223</td>\n",
       "      <td>-81.878056</td>\n",
       "      <td>NaN</td>\n",
       "      <td>NaN</td>\n",
       "      <td>...</td>\n",
       "      <td>Personal</td>\n",
       "      <td>NaN</td>\n",
       "      <td>3.0</td>\n",
       "      <td>NaN</td>\n",
       "      <td>NaN</td>\n",
       "      <td>NaN</td>\n",
       "      <td>IMC</td>\n",
       "      <td>Cruise</td>\n",
       "      <td>Probable Cause</td>\n",
       "      <td>26-02-2007</td>\n",
       "    </tr>\n",
       "    <tr>\n",
       "      <th>3</th>\n",
       "      <td>20001218X45448</td>\n",
       "      <td>Accident</td>\n",
       "      <td>LAX96LA321</td>\n",
       "      <td>1977-06-19</td>\n",
       "      <td>EUREKA, CA</td>\n",
       "      <td>United States</td>\n",
       "      <td>NaN</td>\n",
       "      <td>NaN</td>\n",
       "      <td>NaN</td>\n",
       "      <td>NaN</td>\n",
       "      <td>...</td>\n",
       "      <td>Personal</td>\n",
       "      <td>NaN</td>\n",
       "      <td>2.0</td>\n",
       "      <td>0.0</td>\n",
       "      <td>0.0</td>\n",
       "      <td>0.0</td>\n",
       "      <td>IMC</td>\n",
       "      <td>Cruise</td>\n",
       "      <td>Probable Cause</td>\n",
       "      <td>12-09-2000</td>\n",
       "    </tr>\n",
       "    <tr>\n",
       "      <th>4</th>\n",
       "      <td>20041105X01764</td>\n",
       "      <td>Accident</td>\n",
       "      <td>CHI79FA064</td>\n",
       "      <td>1979-08-02</td>\n",
       "      <td>Canton, OH</td>\n",
       "      <td>United States</td>\n",
       "      <td>NaN</td>\n",
       "      <td>NaN</td>\n",
       "      <td>NaN</td>\n",
       "      <td>NaN</td>\n",
       "      <td>...</td>\n",
       "      <td>Personal</td>\n",
       "      <td>NaN</td>\n",
       "      <td>1.0</td>\n",
       "      <td>2.0</td>\n",
       "      <td>NaN</td>\n",
       "      <td>0.0</td>\n",
       "      <td>VMC</td>\n",
       "      <td>Approach</td>\n",
       "      <td>Probable Cause</td>\n",
       "      <td>16-04-1980</td>\n",
       "    </tr>\n",
       "  </tbody>\n",
       "</table>\n",
       "<p>5 rows × 31 columns</p>\n",
       "</div>"
      ],
      "text/plain": [
       "         Event.Id Investigation.Type Accident.Number  Event.Date  \\\n",
       "0  20001218X45444           Accident      SEA87LA080  1948-10-24   \n",
       "1  20001218X45447           Accident      LAX94LA336  1962-07-19   \n",
       "2  20061025X01555           Accident      NYC07LA005  1974-08-30   \n",
       "3  20001218X45448           Accident      LAX96LA321  1977-06-19   \n",
       "4  20041105X01764           Accident      CHI79FA064  1979-08-02   \n",
       "\n",
       "          Location        Country   Latitude   Longitude Airport.Code  \\\n",
       "0  MOOSE CREEK, ID  United States        NaN         NaN          NaN   \n",
       "1   BRIDGEPORT, CA  United States        NaN         NaN          NaN   \n",
       "2    Saltville, VA  United States  36.922223  -81.878056          NaN   \n",
       "3       EUREKA, CA  United States        NaN         NaN          NaN   \n",
       "4       Canton, OH  United States        NaN         NaN          NaN   \n",
       "\n",
       "  Airport.Name  ... Purpose.of.flight Air.carrier Total.Fatal.Injuries  \\\n",
       "0          NaN  ...          Personal         NaN                  2.0   \n",
       "1          NaN  ...          Personal         NaN                  4.0   \n",
       "2          NaN  ...          Personal         NaN                  3.0   \n",
       "3          NaN  ...          Personal         NaN                  2.0   \n",
       "4          NaN  ...          Personal         NaN                  1.0   \n",
       "\n",
       "  Total.Serious.Injuries Total.Minor.Injuries Total.Uninjured  \\\n",
       "0                    0.0                  0.0             0.0   \n",
       "1                    0.0                  0.0             0.0   \n",
       "2                    NaN                  NaN             NaN   \n",
       "3                    0.0                  0.0             0.0   \n",
       "4                    2.0                  NaN             0.0   \n",
       "\n",
       "  Weather.Condition  Broad.phase.of.flight   Report.Status Publication.Date  \n",
       "0               UNK                 Cruise  Probable Cause              NaN  \n",
       "1               UNK                Unknown  Probable Cause       19-09-1996  \n",
       "2               IMC                 Cruise  Probable Cause       26-02-2007  \n",
       "3               IMC                 Cruise  Probable Cause       12-09-2000  \n",
       "4               VMC               Approach  Probable Cause       16-04-1980  \n",
       "\n",
       "[5 rows x 31 columns]"
      ]
     },
     "execution_count": 1,
     "metadata": {},
     "output_type": "execute_result"
    }
   ],
   "source": [
    "import pandas as pd\n",
    "import matplotlib.pyplot as plt\n",
    "%matplotlib inline\n",
    "\n",
    "df = pd.read_csv('data/Aviation_Data.csv', low_memory=False)\n",
    "df.head()"
   ]
  },
  {
   "cell_type": "code",
   "execution_count": 2,
   "metadata": {},
   "outputs": [
    {
     "name": "stdout",
     "output_type": "stream",
     "text": [
      "<class 'pandas.core.frame.DataFrame'>\n",
      "RangeIndex: 90348 entries, 0 to 90347\n",
      "Data columns (total 31 columns):\n",
      " #   Column                  Non-Null Count  Dtype  \n",
      "---  ------                  --------------  -----  \n",
      " 0   Event.Id                88889 non-null  object \n",
      " 1   Investigation.Type      90348 non-null  object \n",
      " 2   Accident.Number         88889 non-null  object \n",
      " 3   Event.Date              88889 non-null  object \n",
      " 4   Location                88837 non-null  object \n",
      " 5   Country                 88663 non-null  object \n",
      " 6   Latitude                34382 non-null  object \n",
      " 7   Longitude               34373 non-null  object \n",
      " 8   Airport.Code            50249 non-null  object \n",
      " 9   Airport.Name            52790 non-null  object \n",
      " 10  Injury.Severity         87889 non-null  object \n",
      " 11  Aircraft.damage         85695 non-null  object \n",
      " 12  Aircraft.Category       32287 non-null  object \n",
      " 13  Registration.Number     87572 non-null  object \n",
      " 14  Make                    88826 non-null  object \n",
      " 15  Model                   88797 non-null  object \n",
      " 16  Amateur.Built           88787 non-null  object \n",
      " 17  Number.of.Engines       82805 non-null  float64\n",
      " 18  Engine.Type             81812 non-null  object \n",
      " 19  FAR.Description         32023 non-null  object \n",
      " 20  Schedule                12582 non-null  object \n",
      " 21  Purpose.of.flight       82697 non-null  object \n",
      " 22  Air.carrier             16648 non-null  object \n",
      " 23  Total.Fatal.Injuries    77488 non-null  float64\n",
      " 24  Total.Serious.Injuries  76379 non-null  float64\n",
      " 25  Total.Minor.Injuries    76956 non-null  float64\n",
      " 26  Total.Uninjured         82977 non-null  float64\n",
      " 27  Weather.Condition       84397 non-null  object \n",
      " 28  Broad.phase.of.flight   61724 non-null  object \n",
      " 29  Report.Status           82508 non-null  object \n",
      " 30  Publication.Date        73659 non-null  object \n",
      "dtypes: float64(5), object(26)\n",
      "memory usage: 21.4+ MB\n"
     ]
    }
   ],
   "source": [
    "df.info()"
   ]
  },
  {
   "cell_type": "code",
   "execution_count": 3,
   "metadata": {},
   "outputs": [],
   "source": [
    "# Creating a copy of df to work with\n",
    "df_copy = df.copy()\n",
    "\n",
    "# Changing 'Event.Date' format\n",
    "df_copy['Event.Date'] = pd.to_datetime(df_copy['Event.Date'])\n",
    "\n",
    "# Filtering rows with years 2000 or greater\n",
    "df_copy = df_copy[df_copy['Event.Date'].dt.year >= 2000]\n",
    "\n",
    "# Select rows with \"Airplane\" in 'Aircraft Category' column\n",
    "df_copy = df_copy.loc[df_copy['Aircraft.Category'] == 'Airplane']\n",
    "\n",
    "# Cleaning 'Total.Fatal.Injuries' column name\n",
    "df_copy.rename(columns={'Total.Fatal.Injuries': 'Total Fatal Injuries'}, inplace=True)\n",
    "\n",
    "# Dropping Nans in 'Total Fatal Injuries'\n",
    "mask = ~df_copy['Total Fatal Injuries'].isna()\n",
    "df_copy = df_copy.loc[mask]\n",
    "\n",
    "\n",
    "# Create a new DataFrame with selected columns\n",
    "new_df = df_copy[['Make', 'Model', 'Total Fatal Injuries']].copy()"
   ]
  },
  {
   "cell_type": "code",
   "execution_count": 4,
   "metadata": {},
   "outputs": [
    {
     "data": {
      "text/html": [
       "<div>\n",
       "<style scoped>\n",
       "    .dataframe tbody tr th:only-of-type {\n",
       "        vertical-align: middle;\n",
       "    }\n",
       "\n",
       "    .dataframe tbody tr th {\n",
       "        vertical-align: top;\n",
       "    }\n",
       "\n",
       "    .dataframe thead th {\n",
       "        text-align: right;\n",
       "    }\n",
       "</style>\n",
       "<table border=\"1\" class=\"dataframe\">\n",
       "  <thead>\n",
       "    <tr style=\"text-align: right;\">\n",
       "      <th></th>\n",
       "      <th>Make</th>\n",
       "      <th>Model</th>\n",
       "      <th>Total Fatal Injuries</th>\n",
       "    </tr>\n",
       "  </thead>\n",
       "  <tbody>\n",
       "    <tr>\n",
       "      <th>47779</th>\n",
       "      <td>Airbus Industrie</td>\n",
       "      <td>A 310</td>\n",
       "      <td>169.0</td>\n",
       "    </tr>\n",
       "    <tr>\n",
       "      <th>47864</th>\n",
       "      <td>Cessna</td>\n",
       "      <td>208B</td>\n",
       "      <td>1.0</td>\n",
       "    </tr>\n",
       "    <tr>\n",
       "      <th>47869</th>\n",
       "      <td>Cessna</td>\n",
       "      <td>182M</td>\n",
       "      <td>1.0</td>\n",
       "    </tr>\n",
       "    <tr>\n",
       "      <th>47870</th>\n",
       "      <td>Douglas</td>\n",
       "      <td>DC-8-71F</td>\n",
       "      <td>3.0</td>\n",
       "    </tr>\n",
       "    <tr>\n",
       "      <th>48128</th>\n",
       "      <td>Learjet</td>\n",
       "      <td>35A</td>\n",
       "      <td>3.0</td>\n",
       "    </tr>\n",
       "  </tbody>\n",
       "</table>\n",
       "</div>"
      ],
      "text/plain": [
       "                   Make     Model  Total Fatal Injuries\n",
       "47779  Airbus Industrie     A 310                 169.0\n",
       "47864            Cessna      208B                   1.0\n",
       "47869            Cessna      182M                   1.0\n",
       "47870           Douglas  DC-8-71F                   3.0\n",
       "48128           Learjet       35A                   3.0"
      ]
     },
     "execution_count": 4,
     "metadata": {},
     "output_type": "execute_result"
    }
   ],
   "source": [
    "new_df.head()"
   ]
  },
  {
   "cell_type": "code",
   "execution_count": 5,
   "metadata": {
    "scrolled": true
   },
   "outputs": [
    {
     "data": {
      "text/plain": [
       "CESSNA                       4867\n",
       "PIPER                        2805\n",
       "Cessna                       1099\n",
       "BOEING                       1037\n",
       "BEECH                        1018\n",
       "                             ... \n",
       "Nichols Rans, Inc.              1\n",
       "Omf                             1\n",
       "EXTRA FLUGZEUGBAU               1\n",
       "PARADISE AIRCRAFT USA LLC       1\n",
       "HUNZIKER                        1\n",
       "Name: Make, Length: 3337, dtype: int64"
      ]
     },
     "execution_count": 5,
     "metadata": {},
     "output_type": "execute_result"
    }
   ],
   "source": [
    "# Checking values in the 'Make' column\n",
    "new_df['Make'].value_counts()"
   ]
  },
  {
   "cell_type": "code",
   "execution_count": 6,
   "metadata": {},
   "outputs": [],
   "source": [
    "# Apply name changes using .replace and assign the result back to 'Make' column\n",
    "name_changes = {'CESSNA': 'Cessna', 'PIPER': 'Piper', 'BEECH': 'Beech','CIRRUS DESIGN CORP':'Cirrus Design Corp',\n",
    " 'BOEING': 'Boeing','MOONEY': 'Mooney','BELLANCA':'Bellanca','AERONCA':'Aeronca',\n",
    " 'EMBRAER':'Embraer','MAULE':'Maule','AIRBUS':'Airbus','AIR TRACTOR INC':'Air Tractor', 'LUSCOMBE':'Luscombe',\n",
    " 'DEHAVILLAND':'Dehavilland'}\n",
    "\n",
    "# Applying name changes \n",
    "new_df.loc[:, 'Make'] = new_df['Make'].replace(name_changes)"
   ]
  },
  {
   "cell_type": "code",
   "execution_count": 7,
   "metadata": {},
   "outputs": [
    {
     "data": {
      "text/plain": [
       "Cessna                       5966\n",
       "Piper                        3457\n",
       "Beech                        1276\n",
       "Boeing                       1146\n",
       "Mooney                        306\n",
       "                             ... \n",
       "Omf                             1\n",
       "EXTRA FLUGZEUGBAU               1\n",
       "PARADISE AIRCRAFT USA LLC       1\n",
       "SAPP LARRY E                    1\n",
       "HUNZIKER                        1\n",
       "Name: Make, Length: 3323, dtype: int64"
      ]
     },
     "execution_count": 7,
     "metadata": {},
     "output_type": "execute_result"
    }
   ],
   "source": [
    "# Checking name changes\n",
    "new_df['Make'].value_counts()"
   ]
  },
  {
   "cell_type": "code",
   "execution_count": 8,
   "metadata": {},
   "outputs": [],
   "source": [
    "# Taking values with at least 100 make counts\n",
    "counts = new_df['Make'].value_counts()\n",
    "new_df = new_df[new_df['Make'].isin(counts[counts >= 100].index)] "
   ]
  },
  {
   "cell_type": "code",
   "execution_count": 9,
   "metadata": {},
   "outputs": [
    {
     "data": {
      "text/plain": [
       "Cessna                5966\n",
       "Piper                 3457\n",
       "Beech                 1276\n",
       "Boeing                1146\n",
       "Mooney                 306\n",
       "Air Tractor            291\n",
       "Airbus                 238\n",
       "Cirrus Design Corp     220\n",
       "Bellanca               179\n",
       "Maule                  172\n",
       "Aeronca                168\n",
       "Embraer                143\n",
       "Luscombe               115\n",
       "Name: Make, dtype: int64"
      ]
     },
     "execution_count": 9,
     "metadata": {},
     "output_type": "execute_result"
    }
   ],
   "source": [
    "new_df['Make'].value_counts()"
   ]
  },
  {
   "cell_type": "code",
   "execution_count": 10,
   "metadata": {},
   "outputs": [],
   "source": [
    "# Taking values with at least 100 model counts\n",
    "model_counts = new_df['Model'].value_counts()\n",
    "new_df = new_df[new_df['Model'].isin(model_counts[model_counts >= 100].index)]"
   ]
  },
  {
   "cell_type": "code",
   "execution_count": 11,
   "metadata": {},
   "outputs": [
    {
     "data": {
      "text/plain": [
       "172          718\n",
       "737          402\n",
       "182          278\n",
       "PA28         273\n",
       "152          238\n",
       "172S         200\n",
       "180          181\n",
       "172N         175\n",
       "150          161\n",
       "A36          149\n",
       "172M         147\n",
       "SR22         144\n",
       "PA-18-150    141\n",
       "PA-28-140    133\n",
       "140          104\n",
       "172P         101\n",
       "Name: Model, dtype: int64"
      ]
     },
     "execution_count": 11,
     "metadata": {},
     "output_type": "execute_result"
    }
   ],
   "source": [
    "new_df['Model'].value_counts()"
   ]
  },
  {
   "cell_type": "code",
   "execution_count": 12,
   "metadata": {},
   "outputs": [
    {
     "data": {
      "text/html": [
       "<div>\n",
       "<style scoped>\n",
       "    .dataframe tbody tr th:only-of-type {\n",
       "        vertical-align: middle;\n",
       "    }\n",
       "\n",
       "    .dataframe tbody tr th {\n",
       "        vertical-align: top;\n",
       "    }\n",
       "\n",
       "    .dataframe thead th {\n",
       "        text-align: right;\n",
       "    }\n",
       "</style>\n",
       "<table border=\"1\" class=\"dataframe\">\n",
       "  <thead>\n",
       "    <tr style=\"text-align: right;\">\n",
       "      <th></th>\n",
       "      <th>Make</th>\n",
       "      <th>Model</th>\n",
       "      <th>Total Fatal Injuries</th>\n",
       "    </tr>\n",
       "  </thead>\n",
       "  <tbody>\n",
       "    <tr>\n",
       "      <th>50364</th>\n",
       "      <td>Cessna</td>\n",
       "      <td>182</td>\n",
       "      <td>4.0</td>\n",
       "    </tr>\n",
       "    <tr>\n",
       "      <th>50561</th>\n",
       "      <td>Cessna</td>\n",
       "      <td>182</td>\n",
       "      <td>2.0</td>\n",
       "    </tr>\n",
       "    <tr>\n",
       "      <th>51292</th>\n",
       "      <td>Cessna</td>\n",
       "      <td>150</td>\n",
       "      <td>2.0</td>\n",
       "    </tr>\n",
       "    <tr>\n",
       "      <th>52291</th>\n",
       "      <td>Cessna</td>\n",
       "      <td>152</td>\n",
       "      <td>2.0</td>\n",
       "    </tr>\n",
       "    <tr>\n",
       "      <th>52532</th>\n",
       "      <td>Cessna</td>\n",
       "      <td>172</td>\n",
       "      <td>4.0</td>\n",
       "    </tr>\n",
       "    <tr>\n",
       "      <th>53819</th>\n",
       "      <td>Cessna</td>\n",
       "      <td>152</td>\n",
       "      <td>1.0</td>\n",
       "    </tr>\n",
       "    <tr>\n",
       "      <th>54329</th>\n",
       "      <td>Cessna</td>\n",
       "      <td>172S</td>\n",
       "      <td>2.0</td>\n",
       "    </tr>\n",
       "    <tr>\n",
       "      <th>54877</th>\n",
       "      <td>Cessna</td>\n",
       "      <td>172N</td>\n",
       "      <td>5.0</td>\n",
       "    </tr>\n",
       "    <tr>\n",
       "      <th>55307</th>\n",
       "      <td>Piper</td>\n",
       "      <td>PA-28-140</td>\n",
       "      <td>1.0</td>\n",
       "    </tr>\n",
       "    <tr>\n",
       "      <th>55965</th>\n",
       "      <td>Piper</td>\n",
       "      <td>PA-28-140</td>\n",
       "      <td>1.0</td>\n",
       "    </tr>\n",
       "    <tr>\n",
       "      <th>56032</th>\n",
       "      <td>Cessna</td>\n",
       "      <td>172</td>\n",
       "      <td>1.0</td>\n",
       "    </tr>\n",
       "    <tr>\n",
       "      <th>56318</th>\n",
       "      <td>Cessna</td>\n",
       "      <td>182</td>\n",
       "      <td>4.0</td>\n",
       "    </tr>\n",
       "    <tr>\n",
       "      <th>56636</th>\n",
       "      <td>Cessna</td>\n",
       "      <td>172M</td>\n",
       "      <td>1.0</td>\n",
       "    </tr>\n",
       "    <tr>\n",
       "      <th>62037</th>\n",
       "      <td>Beech</td>\n",
       "      <td>A36</td>\n",
       "      <td>4.0</td>\n",
       "    </tr>\n",
       "    <tr>\n",
       "      <th>62943</th>\n",
       "      <td>Piper</td>\n",
       "      <td>PA-28-140</td>\n",
       "      <td>0.0</td>\n",
       "    </tr>\n",
       "    <tr>\n",
       "      <th>63290</th>\n",
       "      <td>Beech</td>\n",
       "      <td>A36</td>\n",
       "      <td>5.0</td>\n",
       "    </tr>\n",
       "    <tr>\n",
       "      <th>63329</th>\n",
       "      <td>Piper</td>\n",
       "      <td>PA-28-140</td>\n",
       "      <td>3.0</td>\n",
       "    </tr>\n",
       "    <tr>\n",
       "      <th>63441</th>\n",
       "      <td>Cessna</td>\n",
       "      <td>180</td>\n",
       "      <td>1.0</td>\n",
       "    </tr>\n",
       "    <tr>\n",
       "      <th>63508</th>\n",
       "      <td>Piper</td>\n",
       "      <td>PA-28-140</td>\n",
       "      <td>1.0</td>\n",
       "    </tr>\n",
       "    <tr>\n",
       "      <th>63612</th>\n",
       "      <td>Beech</td>\n",
       "      <td>A36</td>\n",
       "      <td>2.0</td>\n",
       "    </tr>\n",
       "  </tbody>\n",
       "</table>\n",
       "</div>"
      ],
      "text/plain": [
       "         Make      Model  Total Fatal Injuries\n",
       "50364  Cessna        182                   4.0\n",
       "50561  Cessna        182                   2.0\n",
       "51292  Cessna        150                   2.0\n",
       "52291  Cessna        152                   2.0\n",
       "52532  Cessna        172                   4.0\n",
       "53819  Cessna        152                   1.0\n",
       "54329  Cessna       172S                   2.0\n",
       "54877  Cessna       172N                   5.0\n",
       "55307   Piper  PA-28-140                   1.0\n",
       "55965   Piper  PA-28-140                   1.0\n",
       "56032  Cessna        172                   1.0\n",
       "56318  Cessna        182                   4.0\n",
       "56636  Cessna       172M                   1.0\n",
       "62037   Beech        A36                   4.0\n",
       "62943   Piper  PA-28-140                   0.0\n",
       "63290   Beech        A36                   5.0\n",
       "63329   Piper  PA-28-140                   3.0\n",
       "63441  Cessna        180                   1.0\n",
       "63508   Piper  PA-28-140                   1.0\n",
       "63612   Beech        A36                   2.0"
      ]
     },
     "execution_count": 12,
     "metadata": {},
     "output_type": "execute_result"
    }
   ],
   "source": [
    "new_df.head(20)\n"
   ]
  },
  {
   "cell_type": "markdown",
   "metadata": {},
   "source": [
    "## Exploratory Data Analysis"
   ]
  },
  {
   "cell_type": "code",
   "execution_count": 13,
   "metadata": {},
   "outputs": [
    {
     "data": {
      "text/html": [
       "<div>\n",
       "<style scoped>\n",
       "    .dataframe tbody tr th:only-of-type {\n",
       "        vertical-align: middle;\n",
       "    }\n",
       "\n",
       "    .dataframe tbody tr th {\n",
       "        vertical-align: top;\n",
       "    }\n",
       "\n",
       "    .dataframe thead th {\n",
       "        text-align: right;\n",
       "    }\n",
       "</style>\n",
       "<table border=\"1\" class=\"dataframe\">\n",
       "  <thead>\n",
       "    <tr style=\"text-align: right;\">\n",
       "      <th></th>\n",
       "      <th>Make</th>\n",
       "      <th>Model</th>\n",
       "      <th>Total Accidents</th>\n",
       "      <th>Total Fatal Injuries</th>\n",
       "      <th>Safety Ratio</th>\n",
       "    </tr>\n",
       "  </thead>\n",
       "  <tbody>\n",
       "    <tr>\n",
       "      <th>0</th>\n",
       "      <td>Beech</td>\n",
       "      <td>A36</td>\n",
       "      <td>149</td>\n",
       "      <td>111.0</td>\n",
       "      <td>0.744966</td>\n",
       "    </tr>\n",
       "    <tr>\n",
       "      <th>1</th>\n",
       "      <td>Boeing</td>\n",
       "      <td>737</td>\n",
       "      <td>402</td>\n",
       "      <td>1341.0</td>\n",
       "      <td>3.335821</td>\n",
       "    </tr>\n",
       "    <tr>\n",
       "      <th>2</th>\n",
       "      <td>Cessna</td>\n",
       "      <td>140</td>\n",
       "      <td>103</td>\n",
       "      <td>17.0</td>\n",
       "      <td>0.165049</td>\n",
       "    </tr>\n",
       "    <tr>\n",
       "      <th>3</th>\n",
       "      <td>Cessna</td>\n",
       "      <td>150</td>\n",
       "      <td>161</td>\n",
       "      <td>59.0</td>\n",
       "      <td>0.366460</td>\n",
       "    </tr>\n",
       "    <tr>\n",
       "      <th>4</th>\n",
       "      <td>Cessna</td>\n",
       "      <td>152</td>\n",
       "      <td>238</td>\n",
       "      <td>45.0</td>\n",
       "      <td>0.189076</td>\n",
       "    </tr>\n",
       "    <tr>\n",
       "      <th>5</th>\n",
       "      <td>Cessna</td>\n",
       "      <td>172</td>\n",
       "      <td>718</td>\n",
       "      <td>213.0</td>\n",
       "      <td>0.296657</td>\n",
       "    </tr>\n",
       "    <tr>\n",
       "      <th>6</th>\n",
       "      <td>Cessna</td>\n",
       "      <td>172M</td>\n",
       "      <td>147</td>\n",
       "      <td>44.0</td>\n",
       "      <td>0.299320</td>\n",
       "    </tr>\n",
       "    <tr>\n",
       "      <th>7</th>\n",
       "      <td>Cessna</td>\n",
       "      <td>172N</td>\n",
       "      <td>175</td>\n",
       "      <td>68.0</td>\n",
       "      <td>0.388571</td>\n",
       "    </tr>\n",
       "    <tr>\n",
       "      <th>8</th>\n",
       "      <td>Cessna</td>\n",
       "      <td>172P</td>\n",
       "      <td>101</td>\n",
       "      <td>11.0</td>\n",
       "      <td>0.108911</td>\n",
       "    </tr>\n",
       "    <tr>\n",
       "      <th>9</th>\n",
       "      <td>Cessna</td>\n",
       "      <td>172S</td>\n",
       "      <td>200</td>\n",
       "      <td>48.0</td>\n",
       "      <td>0.240000</td>\n",
       "    </tr>\n",
       "    <tr>\n",
       "      <th>10</th>\n",
       "      <td>Cessna</td>\n",
       "      <td>180</td>\n",
       "      <td>181</td>\n",
       "      <td>15.0</td>\n",
       "      <td>0.082873</td>\n",
       "    </tr>\n",
       "    <tr>\n",
       "      <th>11</th>\n",
       "      <td>Cessna</td>\n",
       "      <td>182</td>\n",
       "      <td>278</td>\n",
       "      <td>144.0</td>\n",
       "      <td>0.517986</td>\n",
       "    </tr>\n",
       "    <tr>\n",
       "      <th>12</th>\n",
       "      <td>Cirrus Design Corp</td>\n",
       "      <td>SR22</td>\n",
       "      <td>144</td>\n",
       "      <td>85.0</td>\n",
       "      <td>0.590278</td>\n",
       "    </tr>\n",
       "    <tr>\n",
       "      <th>13</th>\n",
       "      <td>Embraer</td>\n",
       "      <td>140</td>\n",
       "      <td>1</td>\n",
       "      <td>0.0</td>\n",
       "      <td>0.000000</td>\n",
       "    </tr>\n",
       "    <tr>\n",
       "      <th>14</th>\n",
       "      <td>Piper</td>\n",
       "      <td>PA-18-150</td>\n",
       "      <td>141</td>\n",
       "      <td>11.0</td>\n",
       "      <td>0.078014</td>\n",
       "    </tr>\n",
       "    <tr>\n",
       "      <th>15</th>\n",
       "      <td>Piper</td>\n",
       "      <td>PA-28-140</td>\n",
       "      <td>133</td>\n",
       "      <td>45.0</td>\n",
       "      <td>0.338346</td>\n",
       "    </tr>\n",
       "    <tr>\n",
       "      <th>16</th>\n",
       "      <td>Piper</td>\n",
       "      <td>PA28</td>\n",
       "      <td>273</td>\n",
       "      <td>116.0</td>\n",
       "      <td>0.424908</td>\n",
       "    </tr>\n",
       "  </tbody>\n",
       "</table>\n",
       "</div>"
      ],
      "text/plain": [
       "                  Make      Model  Total Accidents  Total Fatal Injuries  \\\n",
       "0                Beech        A36              149                 111.0   \n",
       "1               Boeing        737              402                1341.0   \n",
       "2               Cessna        140              103                  17.0   \n",
       "3               Cessna        150              161                  59.0   \n",
       "4               Cessna        152              238                  45.0   \n",
       "5               Cessna        172              718                 213.0   \n",
       "6               Cessna       172M              147                  44.0   \n",
       "7               Cessna       172N              175                  68.0   \n",
       "8               Cessna       172P              101                  11.0   \n",
       "9               Cessna       172S              200                  48.0   \n",
       "10              Cessna        180              181                  15.0   \n",
       "11              Cessna        182              278                 144.0   \n",
       "12  Cirrus Design Corp       SR22              144                  85.0   \n",
       "13             Embraer        140                1                   0.0   \n",
       "14               Piper  PA-18-150              141                  11.0   \n",
       "15               Piper  PA-28-140              133                  45.0   \n",
       "16               Piper       PA28              273                 116.0   \n",
       "\n",
       "    Safety Ratio  \n",
       "0       0.744966  \n",
       "1       3.335821  \n",
       "2       0.165049  \n",
       "3       0.366460  \n",
       "4       0.189076  \n",
       "5       0.296657  \n",
       "6       0.299320  \n",
       "7       0.388571  \n",
       "8       0.108911  \n",
       "9       0.240000  \n",
       "10      0.082873  \n",
       "11      0.517986  \n",
       "12      0.590278  \n",
       "13      0.000000  \n",
       "14      0.078014  \n",
       "15      0.338346  \n",
       "16      0.424908  "
      ]
     },
     "execution_count": 13,
     "metadata": {},
     "output_type": "execute_result"
    }
   ],
   "source": [
    "# Grouping by Make and Model and Aggregating\n",
    "filtered_df = new_df.groupby(['Make', 'Model']).agg({'Total Fatal Injuries': 'sum', 'Make': 'count'})\n",
    "\n",
    "# Rename the 'Make' column to 'Total Accidents'\n",
    "filtered_df = filtered_df.rename(columns={'Make': 'Total Accidents'})\n",
    "\n",
    "# Reset index to make 'Make' and 'Model' columns regular columns\n",
    "filtered_df = filtered_df.reset_index()\n",
    "\n",
    "# Rearranging Columns\n",
    "filtered_df = filtered_df[['Make', 'Model', 'Total Accidents', 'Total Fatal Injuries']]\n",
    "\n",
    "# Creating a new column 'Safety Ratio'. Total Fatal Injuries / Total Accidents\n",
    "filtered_df['Safety Ratio'] = filtered_df['Total Fatal Injuries'] / filtered_df['Total Accidents']\n",
    "filtered_df\n"
   ]
  },
  {
   "cell_type": "code",
   "execution_count": 14,
   "metadata": {},
   "outputs": [],
   "source": [
    "#Dropping Embraer since it does model does not follow >= 100 flights\n",
    "filtered_df = filtered_df[filtered_df['Make'] != 'Embraer']"
   ]
  },
  {
   "cell_type": "code",
   "execution_count": 15,
   "metadata": {},
   "outputs": [
    {
     "data": {
      "image/png": "[encoded data removed]",
      "text/plain": [
       "<Figure size 864x576 with 1 Axes>"
      ]
     },
     "metadata": {
      "needs_background": "light"
     },
     "output_type": "display_data"
    }
   ],
   "source": [
    "# Bar chart for 'Total Accidents by Make and Model'\n",
    "\n",
    "plt.figure(figsize=(12, 8))\n",
    "plt.bar(filtered_df['Make'] + ' ' + filtered_df['Model'], filtered_df['Total Accidents'], color='skyblue')\n",
    "plt.xlabel('Make and Model')\n",
    "plt.ylabel('Total Accidents ')\n",
    "plt.title('Total Accidents by Make and Model')\n",
    "plt.xticks(rotation=45, ha='right');"
   ]
  },
  {
   "cell_type": "code",
   "execution_count": 16,
   "metadata": {},
   "outputs": [
    {
     "data": {
      "image/png": "[encoded data removed]",
      "text/plain": [
       "<Figure size 864x576 with 1 Axes>"
      ]
     },
     "metadata": {
      "needs_background": "light"
     },
     "output_type": "display_data"
    }
   ],
   "source": [
    "# Bar chart for 'Total Fatal Injuries by Make and Model'\n",
    "\n",
    "plt.figure(figsize=(12, 8))\n",
    "plt.bar(filtered_df['Make'] + ' ' + filtered_df['Model'], filtered_df['Total Fatal Injuries'], color='green')\n",
    "plt.xlabel('Make and Model')\n",
    "plt.ylabel('Total Fatal Injuries')\n",
    "plt.title('Total Fatal Injuries by Make and Model')\n",
    "plt.xticks(rotation=45, ha='right');"
   ]
  },
  {
   "cell_type": "code",
   "execution_count": 17,
   "metadata": {},
   "outputs": [
    {
     "data": {
      "image/png": "[encoded data removed]",
      "text/plain": [
       "<Figure size 864x576 with 1 Axes>"
      ]
     },
     "metadata": {
      "needs_background": "light"
     },
     "output_type": "display_data"
    }
   ],
   "source": [
    "# Bar chart for 'Safety Ratio by Make and Model'\n",
    "\n",
    "plt.figure(figsize=(12, 8))\n",
    "plt.bar(filtered_df['Make'] + ' ' + filtered_df['Model'], filtered_df['Safety Ratio'], color='red')\n",
    "plt.xlabel('Make and Model')\n",
    "plt.ylabel('Safety Ratio (Lower is Better)')\n",
    "plt.title('Safety Ratio by Make and Model')\n",
    "plt.xticks(rotation=45, ha='right');"
   ]
  },
  {
   "cell_type": "code",
   "execution_count": 18,
   "metadata": {},
   "outputs": [
    {
     "data": {
      "text/html": [
       "<div>\n",
       "<style scoped>\n",
       "    .dataframe tbody tr th:only-of-type {\n",
       "        vertical-align: middle;\n",
       "    }\n",
       "\n",
       "    .dataframe tbody tr th {\n",
       "        vertical-align: top;\n",
       "    }\n",
       "\n",
       "    .dataframe thead th {\n",
       "        text-align: right;\n",
       "    }\n",
       "</style>\n",
       "<table border=\"1\" class=\"dataframe\">\n",
       "  <thead>\n",
       "    <tr style=\"text-align: right;\">\n",
       "      <th></th>\n",
       "      <th>Make</th>\n",
       "      <th>Model</th>\n",
       "      <th>Total Accidents</th>\n",
       "      <th>Total Fatal Injuries</th>\n",
       "      <th>Safety Ratio</th>\n",
       "    </tr>\n",
       "  </thead>\n",
       "  <tbody>\n",
       "    <tr>\n",
       "      <th>14</th>\n",
       "      <td>Piper</td>\n",
       "      <td>PA-18-150</td>\n",
       "      <td>141</td>\n",
       "      <td>11.0</td>\n",
       "      <td>0.078014</td>\n",
       "    </tr>\n",
       "    <tr>\n",
       "      <th>10</th>\n",
       "      <td>Cessna</td>\n",
       "      <td>180</td>\n",
       "      <td>181</td>\n",
       "      <td>15.0</td>\n",
       "      <td>0.082873</td>\n",
       "    </tr>\n",
       "    <tr>\n",
       "      <th>8</th>\n",
       "      <td>Cessna</td>\n",
       "      <td>172P</td>\n",
       "      <td>101</td>\n",
       "      <td>11.0</td>\n",
       "      <td>0.108911</td>\n",
       "    </tr>\n",
       "  </tbody>\n",
       "</table>\n",
       "</div>"
      ],
      "text/plain": [
       "      Make      Model  Total Accidents  Total Fatal Injuries  Safety Ratio\n",
       "14   Piper  PA-18-150              141                  11.0      0.078014\n",
       "10  Cessna        180              181                  15.0      0.082873\n",
       "8   Cessna       172P              101                  11.0      0.108911"
      ]
     },
     "execution_count": 18,
     "metadata": {},
     "output_type": "execute_result"
    }
   ],
   "source": [
    "sorted_df = filtered_df.sort_values(by='Safety Ratio')\n",
    "top_three_safest = sorted_df.head(3)\n",
    "top_three_safest"
   ]
  },
  {
   "cell_type": "code",
   "execution_count": 19,
   "metadata": {
    "scrolled": false
   },
   "outputs": [
    {
     "data": {
      "image/png": "[encoded data removed]",
      "text/plain": [
       "<Figure size 864x576 with 1 Axes>"
      ]
     },
     "metadata": {
      "needs_background": "light"
     },
     "output_type": "display_data"
    }
   ],
   "source": [
    "# Bar chart for Top 3 safest Make and model\n",
    "plt.figure(figsize=(12, 8))\n",
    "plt.bar(top_three_safest['Make'] + ' ' + top_three_safest['Model'], top_three_safest['Safety Ratio'], color='orange')\n",
    "plt.xlabel('Make and Model')\n",
    "plt.ylabel('Safety Ratio')\n",
    "plt.title('Top Three Make and Models with Lowest Safety Ratio');"
   ]
  },
  {
   "cell_type": "markdown",
   "metadata": {},
   "source": [
    "# Conclusion"
   ]
  },
  {
   "cell_type": "markdown",
   "metadata": {},
   "source": [
    "## Recommendations"
   ]
  },
  {
   "cell_type": "markdown",
   "metadata": {},
   "source": [
    "After analyzing total fatal injuries associated with the Make and Model of aircraft, the study has pinpointed three specific Makes and Models that pose the least risk of fatalities, making them favorable for low-risk investments:\n",
    "\n",
    "1: Piper PA-18-150\n",
    "\n",
    "2: Cessna 180\n",
    "\n",
    "3: Cessna 172P\n",
    " "
   ]
  },
  {
   "cell_type": "markdown",
   "metadata": {},
   "source": [
    "## Limitations"
   ]
  },
  {
   "cell_type": "markdown",
   "metadata": {},
   "source": [
    " -The correlation between the model of aircraft and total fatal injury does not imply causation.\n",
    " \n",
    " -In aviation safety there are usually multiple factors at hand not just the make and model \n",
    " such as human error\n",
    "\n"
   ]
  },
  {
   "cell_type": "markdown",
   "metadata": {},
   "source": [
    "## Next Steps"
   ]
  },
  {
   "cell_type": "markdown",
   "metadata": {},
   "source": [
    "Deeper exploration in the dataset may include more information to lower risks even more. \n",
    "\n",
    "Areas for futher exploration include: Geographical Impact, weather impact, and purpose of flight.\n",
    "\n",
    "An analysis of each area could show a higher or lower likelihood of accidents or sustained injuries."
   ]
  }
 ],
 "metadata": {
  "kernelspec": {
   "display_name": "Python (learn-env)",
   "language": "python",
   "name": "learn-env"
  },
  "language_info": {
   "codemirror_mode": {
    "name": "ipython",
    "version": 3
   },
   "file_extension": ".py",
   "mimetype": "text/x-python",
   "name": "python",
   "nbconvert_exporter": "python",
   "pygments_lexer": "ipython3",
   "version": "3.8.5"
  }
 },
 "nbformat": 4,
 "nbformat_minor": 4
}
