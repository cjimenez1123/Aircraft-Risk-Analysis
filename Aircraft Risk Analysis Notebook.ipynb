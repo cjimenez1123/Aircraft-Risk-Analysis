{
 "cells": [
  {
   "cell_type": "markdown",
   "metadata": {},
   "source": [
    "# Aircraft Risk Analysis"
   ]
  },
  {
   "cell_type": "markdown",
   "metadata": {},
   "source": [
    "## Business Understanding"
   ]
  },
  {
   "cell_type": "markdown",
   "metadata": {},
   "source": [
    "To successfully expand in the area of aviation for both commercial and private uses, the company must mitigate potential risks of aircrafts. In doing so the company can make strategic and informative decisions on what to apply their attention to in order to have a successful practice in aviation, but more importantly keep their clients safe."
   ]
  },
  {
   "cell_type": "markdown",
   "metadata": {},
   "source": [
    "## Data Understanding"
   ]
  },
  {
   "cell_type": "markdown",
   "metadata": {},
   "source": [
    "A dataset from the National Transportation Safety Board that includes aviation accident data from 1962 to 2023 about civil aviation accidents and selected incidents in the United States and international waters. Every aircraft in the data has an ID number to reference and includes information such as Make, Model, weather, purpose of flight and severity of injuries as an outcome."
   ]
  },
  {
   "cell_type": "markdown",
   "metadata": {},
   "source": [
    "## Data Preparation"
   ]
  },
  {
   "cell_type": "markdown",
   "metadata": {},
   "source": [
    "The dataset was carefully cleaned to streamline its focus. Unnecessary columns were removed, and records before the year 2010 were filtered out. While NaNs in the 'Number of Engines' column were filled by the most occuring value, duplicates and other NaN values were cleared. Lastly a 'Safety Ratio' column is created by Total Fatal Injuries divided by the Total Accidents to measure the severity of accidents in relation to their occurrence.\n",
    "\n",
    "The investigation zeroes in on three areas:\n",
    "\n",
    "Time-based Analysis: Examining connections between accidents and weather conditions.\n",
    "\n",
    "Location-based Analysis: Exploring accidents based on geographical location, specifically by state.\n",
    "\n",
    "Engine Count and Aircraft Make: Investigating the correlation between the number of engines and the make of the plane and amount of accidents and fatal injuries\n",
    "\n",
    "This approach ensures a clean and focused dataset for efficient analysis"
   ]
  },
  {
   "cell_type": "code",
   "execution_count": 1,
   "metadata": {
    "scrolled": false
   },
   "outputs": [
    {
     "data": {
      "text/html": [
       "<div>\n",
       "<style scoped>\n",
       "    .dataframe tbody tr th:only-of-type {\n",
       "        vertical-align: middle;\n",
       "    }\n",
       "\n",
       "    .dataframe tbody tr th {\n",
       "        vertical-align: top;\n",
       "    }\n",
       "\n",
       "    .dataframe thead th {\n",
       "        text-align: right;\n",
       "    }\n",
       "</style>\n",
       "<table border=\"1\" class=\"dataframe\">\n",
       "  <thead>\n",
       "    <tr style=\"text-align: right;\">\n",
       "      <th></th>\n",
       "      <th>Event.Id</th>\n",
       "      <th>Investigation.Type</th>\n",
       "      <th>Accident.Number</th>\n",
       "      <th>Event.Date</th>\n",
       "      <th>Location</th>\n",
       "      <th>Country</th>\n",
       "      <th>Latitude</th>\n",
       "      <th>Longitude</th>\n",
       "      <th>Airport.Code</th>\n",
       "      <th>Airport.Name</th>\n",
       "      <th>...</th>\n",
       "      <th>Purpose.of.flight</th>\n",
       "      <th>Air.carrier</th>\n",
       "      <th>Total.Fatal.Injuries</th>\n",
       "      <th>Total.Serious.Injuries</th>\n",
       "      <th>Total.Minor.Injuries</th>\n",
       "      <th>Total.Uninjured</th>\n",
       "      <th>Weather.Condition</th>\n",
       "      <th>Broad.phase.of.flight</th>\n",
       "      <th>Report.Status</th>\n",
       "      <th>Publication.Date</th>\n",
       "    </tr>\n",
       "  </thead>\n",
       "  <tbody>\n",
       "    <tr>\n",
       "      <th>0</th>\n",
       "      <td>20001218X45444</td>\n",
       "      <td>Accident</td>\n",
       "      <td>SEA87LA080</td>\n",
       "      <td>1948-10-24</td>\n",
       "      <td>MOOSE CREEK, ID</td>\n",
       "      <td>United States</td>\n",
       "      <td>NaN</td>\n",
       "      <td>NaN</td>\n",
       "      <td>NaN</td>\n",
       "      <td>NaN</td>\n",
       "      <td>...</td>\n",
       "      <td>Personal</td>\n",
       "      <td>NaN</td>\n",
       "      <td>2.0</td>\n",
       "      <td>0.0</td>\n",
       "      <td>0.0</td>\n",
       "      <td>0.0</td>\n",
       "      <td>UNK</td>\n",
       "      <td>Cruise</td>\n",
       "      <td>Probable Cause</td>\n",
       "      <td>NaN</td>\n",
       "    </tr>\n",
       "    <tr>\n",
       "      <th>1</th>\n",
       "      <td>20001218X45447</td>\n",
       "      <td>Accident</td>\n",
       "      <td>LAX94LA336</td>\n",
       "      <td>1962-07-19</td>\n",
       "      <td>BRIDGEPORT, CA</td>\n",
       "      <td>United States</td>\n",
       "      <td>NaN</td>\n",
       "      <td>NaN</td>\n",
       "      <td>NaN</td>\n",
       "      <td>NaN</td>\n",
       "      <td>...</td>\n",
       "      <td>Personal</td>\n",
       "      <td>NaN</td>\n",
       "      <td>4.0</td>\n",
       "      <td>0.0</td>\n",
       "      <td>0.0</td>\n",
       "      <td>0.0</td>\n",
       "      <td>UNK</td>\n",
       "      <td>Unknown</td>\n",
       "      <td>Probable Cause</td>\n",
       "      <td>19-09-1996</td>\n",
       "    </tr>\n",
       "    <tr>\n",
       "      <th>2</th>\n",
       "      <td>20061025X01555</td>\n",
       "      <td>Accident</td>\n",
       "      <td>NYC07LA005</td>\n",
       "      <td>1974-08-30</td>\n",
       "      <td>Saltville, VA</td>\n",
       "      <td>United States</td>\n",
       "      <td>36.922223</td>\n",
       "      <td>-81.878056</td>\n",
       "      <td>NaN</td>\n",
       "      <td>NaN</td>\n",
       "      <td>...</td>\n",
       "      <td>Personal</td>\n",
       "      <td>NaN</td>\n",
       "      <td>3.0</td>\n",
       "      <td>NaN</td>\n",
       "      <td>NaN</td>\n",
       "      <td>NaN</td>\n",
       "      <td>IMC</td>\n",
       "      <td>Cruise</td>\n",
       "      <td>Probable Cause</td>\n",
       "      <td>26-02-2007</td>\n",
       "    </tr>\n",
       "    <tr>\n",
       "      <th>3</th>\n",
       "      <td>20001218X45448</td>\n",
       "      <td>Accident</td>\n",
       "      <td>LAX96LA321</td>\n",
       "      <td>1977-06-19</td>\n",
       "      <td>EUREKA, CA</td>\n",
       "      <td>United States</td>\n",
       "      <td>NaN</td>\n",
       "      <td>NaN</td>\n",
       "      <td>NaN</td>\n",
       "      <td>NaN</td>\n",
       "      <td>...</td>\n",
       "      <td>Personal</td>\n",
       "      <td>NaN</td>\n",
       "      <td>2.0</td>\n",
       "      <td>0.0</td>\n",
       "      <td>0.0</td>\n",
       "      <td>0.0</td>\n",
       "      <td>IMC</td>\n",
       "      <td>Cruise</td>\n",
       "      <td>Probable Cause</td>\n",
       "      <td>12-09-2000</td>\n",
       "    </tr>\n",
       "    <tr>\n",
       "      <th>4</th>\n",
       "      <td>20041105X01764</td>\n",
       "      <td>Accident</td>\n",
       "      <td>CHI79FA064</td>\n",
       "      <td>1979-08-02</td>\n",
       "      <td>Canton, OH</td>\n",
       "      <td>United States</td>\n",
       "      <td>NaN</td>\n",
       "      <td>NaN</td>\n",
       "      <td>NaN</td>\n",
       "      <td>NaN</td>\n",
       "      <td>...</td>\n",
       "      <td>Personal</td>\n",
       "      <td>NaN</td>\n",
       "      <td>1.0</td>\n",
       "      <td>2.0</td>\n",
       "      <td>NaN</td>\n",
       "      <td>0.0</td>\n",
       "      <td>VMC</td>\n",
       "      <td>Approach</td>\n",
       "      <td>Probable Cause</td>\n",
       "      <td>16-04-1980</td>\n",
       "    </tr>\n",
       "  </tbody>\n",
       "</table>\n",
       "<p>5 rows × 31 columns</p>\n",
       "</div>"
      ],
      "text/plain": [
       "         Event.Id Investigation.Type Accident.Number  Event.Date  \\\n",
       "0  20001218X45444           Accident      SEA87LA080  1948-10-24   \n",
       "1  20001218X45447           Accident      LAX94LA336  1962-07-19   \n",
       "2  20061025X01555           Accident      NYC07LA005  1974-08-30   \n",
       "3  20001218X45448           Accident      LAX96LA321  1977-06-19   \n",
       "4  20041105X01764           Accident      CHI79FA064  1979-08-02   \n",
       "\n",
       "          Location        Country   Latitude   Longitude Airport.Code  \\\n",
       "0  MOOSE CREEK, ID  United States        NaN         NaN          NaN   \n",
       "1   BRIDGEPORT, CA  United States        NaN         NaN          NaN   \n",
       "2    Saltville, VA  United States  36.922223  -81.878056          NaN   \n",
       "3       EUREKA, CA  United States        NaN         NaN          NaN   \n",
       "4       Canton, OH  United States        NaN         NaN          NaN   \n",
       "\n",
       "  Airport.Name  ... Purpose.of.flight Air.carrier Total.Fatal.Injuries  \\\n",
       "0          NaN  ...          Personal         NaN                  2.0   \n",
       "1          NaN  ...          Personal         NaN                  4.0   \n",
       "2          NaN  ...          Personal         NaN                  3.0   \n",
       "3          NaN  ...          Personal         NaN                  2.0   \n",
       "4          NaN  ...          Personal         NaN                  1.0   \n",
       "\n",
       "  Total.Serious.Injuries Total.Minor.Injuries Total.Uninjured  \\\n",
       "0                    0.0                  0.0             0.0   \n",
       "1                    0.0                  0.0             0.0   \n",
       "2                    NaN                  NaN             NaN   \n",
       "3                    0.0                  0.0             0.0   \n",
       "4                    2.0                  NaN             0.0   \n",
       "\n",
       "  Weather.Condition  Broad.phase.of.flight   Report.Status Publication.Date  \n",
       "0               UNK                 Cruise  Probable Cause              NaN  \n",
       "1               UNK                Unknown  Probable Cause       19-09-1996  \n",
       "2               IMC                 Cruise  Probable Cause       26-02-2007  \n",
       "3               IMC                 Cruise  Probable Cause       12-09-2000  \n",
       "4               VMC               Approach  Probable Cause       16-04-1980  \n",
       "\n",
       "[5 rows x 31 columns]"
      ]
     },
     "execution_count": 1,
     "metadata": {},
     "output_type": "execute_result"
    }
   ],
   "source": [
    "import pandas as pd\n",
    "import seaborn as sns\n",
    "import matplotlib.pyplot as plt\n",
    "%matplotlib inline\n",
    "\n",
    "# Opening Data file\n",
    "df = pd.read_csv('data/Aviation_Data.csv', low_memory=False)\n",
    "df.head()"
   ]
  },
  {
   "cell_type": "code",
   "execution_count": 2,
   "metadata": {},
   "outputs": [
    {
     "name": "stdout",
     "output_type": "stream",
     "text": [
      "<class 'pandas.core.frame.DataFrame'>\n",
      "RangeIndex: 90348 entries, 0 to 90347\n",
      "Data columns (total 31 columns):\n",
      " #   Column                  Non-Null Count  Dtype  \n",
      "---  ------                  --------------  -----  \n",
      " 0   Event.Id                88889 non-null  object \n",
      " 1   Investigation.Type      90348 non-null  object \n",
      " 2   Accident.Number         88889 non-null  object \n",
      " 3   Event.Date              88889 non-null  object \n",
      " 4   Location                88837 non-null  object \n",
      " 5   Country                 88663 non-null  object \n",
      " 6   Latitude                34382 non-null  object \n",
      " 7   Longitude               34373 non-null  object \n",
      " 8   Airport.Code            50249 non-null  object \n",
      " 9   Airport.Name            52790 non-null  object \n",
      " 10  Injury.Severity         87889 non-null  object \n",
      " 11  Aircraft.damage         85695 non-null  object \n",
      " 12  Aircraft.Category       32287 non-null  object \n",
      " 13  Registration.Number     87572 non-null  object \n",
      " 14  Make                    88826 non-null  object \n",
      " 15  Model                   88797 non-null  object \n",
      " 16  Amateur.Built           88787 non-null  object \n",
      " 17  Number.of.Engines       82805 non-null  float64\n",
      " 18  Engine.Type             81812 non-null  object \n",
      " 19  FAR.Description         32023 non-null  object \n",
      " 20  Schedule                12582 non-null  object \n",
      " 21  Purpose.of.flight       82697 non-null  object \n",
      " 22  Air.carrier             16648 non-null  object \n",
      " 23  Total.Fatal.Injuries    77488 non-null  float64\n",
      " 24  Total.Serious.Injuries  76379 non-null  float64\n",
      " 25  Total.Minor.Injuries    76956 non-null  float64\n",
      " 26  Total.Uninjured         82977 non-null  float64\n",
      " 27  Weather.Condition       84397 non-null  object \n",
      " 28  Broad.phase.of.flight   61724 non-null  object \n",
      " 29  Report.Status           82508 non-null  object \n",
      " 30  Publication.Date        73659 non-null  object \n",
      "dtypes: float64(5), object(26)\n",
      "memory usage: 21.4+ MB\n"
     ]
    }
   ],
   "source": [
    "# Checking Columns\n",
    "df.info()"
   ]
  },
  {
   "cell_type": "code",
   "execution_count": 3,
   "metadata": {},
   "outputs": [],
   "source": [
    "# Gathering Columns I intend to work with\n",
    "columns = ['Event.Id','Investigation.Type','Accident.Number','Event.Date','Location','Country','Aircraft.Category',\n",
    "           'Make','Model','Number.of.Engines','Total.Fatal.Injuries']\n",
    "\n",
    "# Creating a new df with columns wanted\n",
    "new_df = df[columns].copy()"
   ]
  },
  {
   "cell_type": "code",
   "execution_count": 4,
   "metadata": {},
   "outputs": [
    {
     "name": "stdout",
     "output_type": "stream",
     "text": [
      "<class 'pandas.core.frame.DataFrame'>\n",
      "RangeIndex: 90348 entries, 0 to 90347\n",
      "Data columns (total 11 columns):\n",
      " #   Column                Non-Null Count  Dtype  \n",
      "---  ------                --------------  -----  \n",
      " 0   Event.Id              88889 non-null  object \n",
      " 1   Investigation.Type    90348 non-null  object \n",
      " 2   Accident.Number       88889 non-null  object \n",
      " 3   Event.Date            88889 non-null  object \n",
      " 4   Location              88837 non-null  object \n",
      " 5   Country               88663 non-null  object \n",
      " 6   Aircraft.Category     32287 non-null  object \n",
      " 7   Make                  88826 non-null  object \n",
      " 8   Model                 88797 non-null  object \n",
      " 9   Number.of.Engines     82805 non-null  float64\n",
      " 10  Total.Fatal.Injuries  77488 non-null  float64\n",
      "dtypes: float64(2), object(9)\n",
      "memory usage: 7.6+ MB\n"
     ]
    }
   ],
   "source": [
    "# Checking new columns\n",
    "new_df.info()"
   ]
  },
  {
   "cell_type": "code",
   "execution_count": 5,
   "metadata": {},
   "outputs": [
    {
     "name": "stdout",
     "output_type": "stream",
     "text": [
      "<class 'pandas.core.frame.DataFrame'>\n",
      "Int64Index: 17807 entries, 67610 to 90345\n",
      "Data columns (total 11 columns):\n",
      " #   Column                Non-Null Count  Dtype         \n",
      "---  ------                --------------  -----         \n",
      " 0   Event.Id              17807 non-null  object        \n",
      " 1   Investigation.Type    17807 non-null  object        \n",
      " 2   Accident.Number       17807 non-null  object        \n",
      " 3   Event.Date            17807 non-null  datetime64[ns]\n",
      " 4   Location              17807 non-null  object        \n",
      " 5   Country               17807 non-null  object        \n",
      " 6   Aircraft.Category     17807 non-null  object        \n",
      " 7   Make                  17806 non-null  object        \n",
      " 8   Model                 17799 non-null  object        \n",
      " 9   Number.of.Engines     15469 non-null  float64       \n",
      " 10  Total.Fatal.Injuries  17807 non-null  float64       \n",
      "dtypes: datetime64[ns](1), float64(2), object(8)\n",
      "memory usage: 1.6+ MB\n"
     ]
    }
   ],
   "source": [
    "# Changing Event.Date Column to datetime data type\n",
    "new_df['Event.Date'] = pd.to_datetime(new_df['Event.Date'])\n",
    "\n",
    "# Filtering rows with years 2010 or greater\n",
    "new_df = new_df[new_df['Event.Date'].dt.year >= 2010]\n",
    "\n",
    "# Select rows with \"Airplane\" in 'Aircraft Category' column and making a copy to avoid errors\n",
    "new_df = new_df[new_df['Aircraft.Category'] == 'Airplane'].copy()\n",
    "\n",
    "# Checking for change in rows\n",
    "new_df.info()"
   ]
  },
  {
   "cell_type": "code",
   "execution_count": 6,
   "metadata": {
    "scrolled": false
   },
   "outputs": [
    {
     "name": "stdout",
     "output_type": "stream",
     "text": [
      "Duplicates before deletion:\n",
      "             Event.Id Investigation.Type Accident.Number Event.Date  \\\n",
      "88856  20220323104818           Accident      CEN22LA149 2022-03-18   \n",
      "89830  20220822105776           Accident      ERA22LA379 2022-08-20   \n",
      "89982  20220921105978           Incident      DCA22WA204 2022-09-14   \n",
      "\n",
      "            Location        Country Aircraft.Category    Make  Model  \\\n",
      "88856  Grapevine, TX  United States          Airplane  CESSNA   208B   \n",
      "89830   Bealeton, VA  United States          Airplane  BOEING  A75N1   \n",
      "89982       Mumbai,           India          Airplane  BOEING    787   \n",
      "\n",
      "       Number.of.Engines  Total.Fatal.Injuries  \n",
      "88856                1.0                   0.0  \n",
      "89830                1.0                   0.0  \n",
      "89982                NaN                   0.0  \n",
      "\n",
      "Duplicates after deletion:\n",
      "Empty DataFrame\n",
      "Columns: [Event.Id, Investigation.Type, Accident.Number, Event.Date, Location, Country, Aircraft.Category, Make, Model, Number.of.Engines, Total.Fatal.Injuries]\n",
      "Index: []\n"
     ]
    }
   ],
   "source": [
    "# Checking for duplicates\n",
    "duplicates_before = new_df.duplicated()\n",
    "\n",
    "# Printing the duplicate rows\n",
    "print(\"Duplicates before deletion:\")\n",
    "print(new_df.loc[duplicates_before])\n",
    "\n",
    "# Delete duplicates and creating a copy to avoid errors\n",
    "clean_df = new_df.drop_duplicates().copy()\n",
    "\n",
    "# Checking for duplicates again\n",
    "duplicates_after = clean_df.duplicated()\n",
    "\n",
    "# Confirming duplicate rows after deletion\n",
    "print(\"\\nDuplicates after deletion:\")\n",
    "print(clean_df.loc[duplicates_after])"
   ]
  },
  {
   "cell_type": "code",
   "execution_count": 7,
   "metadata": {
    "scrolled": true
   },
   "outputs": [
    {
     "data": {
      "text/plain": [
       "Event.Id                   0\n",
       "Investigation.Type         0\n",
       "Accident.Number            0\n",
       "Event.Date                 0\n",
       "Location                   0\n",
       "Country                    0\n",
       "Aircraft.Category          0\n",
       "Make                       1\n",
       "Model                      8\n",
       "Number.of.Engines       2337\n",
       "Total.Fatal.Injuries       0\n",
       "dtype: int64"
      ]
     },
     "execution_count": 7,
     "metadata": {},
     "output_type": "execute_result"
    }
   ],
   "source": [
    "# Checking for Nans in df\n",
    "clean_df.isna().sum()"
   ]
  },
  {
   "cell_type": "code",
   "execution_count": 35,
   "metadata": {
    "scrolled": false
   },
   "outputs": [
    {
     "data": {
      "text/plain": [
       "Event.Id                0\n",
       "Investigation.Type      0\n",
       "Accident.Number         0\n",
       "Event.Date              0\n",
       "Location                0\n",
       "Country                 0\n",
       "Aircraft.Category       0\n",
       "Make                    0\n",
       "Model                   0\n",
       "Number.of.Engines       0\n",
       "Total.Fatal.Injuries    0\n",
       "dtype: int64"
      ]
     },
     "execution_count": 35,
     "metadata": {},
     "output_type": "execute_result"
    }
   ],
   "source": [
    "# Filling Nans with the mode value in column \"Number of Engines\"\n",
    "engine_mode = clean_df['Number.of.Engines'].mode()[0]\n",
    "clean_df['Number.of.Engines'].fillna(engine_mode, inplace=True)\n",
    "\n",
    "# Dropping Nans for Make and Model \n",
    "master_df = clean_df.dropna()\n",
    "\n",
    "# Checking for removal of Nans \n",
    "master_df.isna().sum()"
   ]
  },
  {
   "cell_type": "code",
   "execution_count": 36,
   "metadata": {},
   "outputs": [
    {
     "data": {
      "text/html": [
       "<div>\n",
       "<style scoped>\n",
       "    .dataframe tbody tr th:only-of-type {\n",
       "        vertical-align: middle;\n",
       "    }\n",
       "\n",
       "    .dataframe tbody tr th {\n",
       "        vertical-align: top;\n",
       "    }\n",
       "\n",
       "    .dataframe thead th {\n",
       "        text-align: right;\n",
       "    }\n",
       "</style>\n",
       "<table border=\"1\" class=\"dataframe\">\n",
       "  <thead>\n",
       "    <tr style=\"text-align: right;\">\n",
       "      <th></th>\n",
       "      <th>Event.Id</th>\n",
       "      <th>Investigation.Type</th>\n",
       "      <th>Accident.Number</th>\n",
       "      <th>Event.Date</th>\n",
       "      <th>Location</th>\n",
       "      <th>Country</th>\n",
       "      <th>Aircraft.Category</th>\n",
       "      <th>Make</th>\n",
       "      <th>Model</th>\n",
       "      <th>Number.of.Engines</th>\n",
       "      <th>Total.Fatal.Injuries</th>\n",
       "    </tr>\n",
       "  </thead>\n",
       "  <tbody>\n",
       "    <tr>\n",
       "      <th>67610</th>\n",
       "      <td>20100104X13404</td>\n",
       "      <td>Accident</td>\n",
       "      <td>ERA10LA104</td>\n",
       "      <td>2010-01-01</td>\n",
       "      <td>Doylestown, PA</td>\n",
       "      <td>United States</td>\n",
       "      <td>Airplane</td>\n",
       "      <td>CESSNA</td>\n",
       "      <td>150G</td>\n",
       "      <td>1.0</td>\n",
       "      <td>0.0</td>\n",
       "    </tr>\n",
       "    <tr>\n",
       "      <th>67611</th>\n",
       "      <td>20100106X32329</td>\n",
       "      <td>Accident</td>\n",
       "      <td>ERA10LA108</td>\n",
       "      <td>2010-01-01</td>\n",
       "      <td>Concord, NC</td>\n",
       "      <td>United States</td>\n",
       "      <td>Airplane</td>\n",
       "      <td>PIPER</td>\n",
       "      <td>PA-32R-300</td>\n",
       "      <td>1.0</td>\n",
       "      <td>0.0</td>\n",
       "    </tr>\n",
       "    <tr>\n",
       "      <th>67612</th>\n",
       "      <td>20100103X60452</td>\n",
       "      <td>Accident</td>\n",
       "      <td>ERA10LA103</td>\n",
       "      <td>2010-01-02</td>\n",
       "      <td>Somerset, KY</td>\n",
       "      <td>United States</td>\n",
       "      <td>Airplane</td>\n",
       "      <td>FAIRCHILD</td>\n",
       "      <td>SA227</td>\n",
       "      <td>2.0</td>\n",
       "      <td>0.0</td>\n",
       "    </tr>\n",
       "    <tr>\n",
       "      <th>67613</th>\n",
       "      <td>20100105X60423</td>\n",
       "      <td>Accident</td>\n",
       "      <td>CEN10CA087</td>\n",
       "      <td>2010-01-02</td>\n",
       "      <td>Pearsall, TX</td>\n",
       "      <td>United States</td>\n",
       "      <td>Airplane</td>\n",
       "      <td>MAULE</td>\n",
       "      <td>M-4-220C</td>\n",
       "      <td>1.0</td>\n",
       "      <td>0.0</td>\n",
       "    </tr>\n",
       "    <tr>\n",
       "      <th>67615</th>\n",
       "      <td>20100714X13546</td>\n",
       "      <td>Incident</td>\n",
       "      <td>CEN10WA393</td>\n",
       "      <td>2010-01-02</td>\n",
       "      <td>Sept-Iles, Canada</td>\n",
       "      <td>Canada</td>\n",
       "      <td>Airplane</td>\n",
       "      <td>Hawker Beechcraft Corp.</td>\n",
       "      <td>200</td>\n",
       "      <td>2.0</td>\n",
       "      <td>0.0</td>\n",
       "    </tr>\n",
       "  </tbody>\n",
       "</table>\n",
       "</div>"
      ],
      "text/plain": [
       "             Event.Id Investigation.Type Accident.Number Event.Date  \\\n",
       "67610  20100104X13404           Accident      ERA10LA104 2010-01-01   \n",
       "67611  20100106X32329           Accident      ERA10LA108 2010-01-01   \n",
       "67612  20100103X60452           Accident      ERA10LA103 2010-01-02   \n",
       "67613  20100105X60423           Accident      CEN10CA087 2010-01-02   \n",
       "67615  20100714X13546           Incident      CEN10WA393 2010-01-02   \n",
       "\n",
       "                Location        Country Aircraft.Category  \\\n",
       "67610     Doylestown, PA  United States          Airplane   \n",
       "67611        Concord, NC  United States          Airplane   \n",
       "67612       Somerset, KY  United States          Airplane   \n",
       "67613       Pearsall, TX  United States          Airplane   \n",
       "67615  Sept-Iles, Canada         Canada          Airplane   \n",
       "\n",
       "                          Make       Model  Number.of.Engines  \\\n",
       "67610                   CESSNA        150G                1.0   \n",
       "67611                    PIPER  PA-32R-300                1.0   \n",
       "67612                FAIRCHILD       SA227                2.0   \n",
       "67613                    MAULE    M-4-220C                1.0   \n",
       "67615  Hawker Beechcraft Corp.         200                2.0   \n",
       "\n",
       "       Total.Fatal.Injuries  \n",
       "67610                   0.0  \n",
       "67611                   0.0  \n",
       "67612                   0.0  \n",
       "67613                   0.0  \n",
       "67615                   0.0  "
      ]
     },
     "execution_count": 36,
     "metadata": {},
     "output_type": "execute_result"
    }
   ],
   "source": [
    "# Checking df \n",
    "master_df.head()"
   ]
  },
  {
   "cell_type": "markdown",
   "metadata": {},
   "source": [
    "### Time"
   ]
  },
  {
   "cell_type": "markdown",
   "metadata": {},
   "source": [
    "For the data sorting of time, a new dataframe was created to work with by the copy method, then the month was extracted from the 'Event.Date' column, the data was grouped by month, calculated total fatal injuries, total accidents, and safety ratio for each month. Lastly the dataframe was organized by the chronological order of months."
   ]
  },
  {
   "cell_type": "code",
   "execution_count": 10,
   "metadata": {
    "scrolled": false
   },
   "outputs": [
    {
     "data": {
      "text/html": [
       "<div>\n",
       "<style scoped>\n",
       "    .dataframe tbody tr th:only-of-type {\n",
       "        vertical-align: middle;\n",
       "    }\n",
       "\n",
       "    .dataframe tbody tr th {\n",
       "        vertical-align: top;\n",
       "    }\n",
       "\n",
       "    .dataframe thead th {\n",
       "        text-align: right;\n",
       "    }\n",
       "</style>\n",
       "<table border=\"1\" class=\"dataframe\">\n",
       "  <thead>\n",
       "    <tr style=\"text-align: right;\">\n",
       "      <th></th>\n",
       "      <th>Month</th>\n",
       "      <th>Total.Fatal.Injuries</th>\n",
       "      <th>Total Accidents</th>\n",
       "      <th>Safety Ratio</th>\n",
       "    </tr>\n",
       "  </thead>\n",
       "  <tbody>\n",
       "    <tr>\n",
       "      <th>4</th>\n",
       "      <td>January</td>\n",
       "      <td>739.0</td>\n",
       "      <td>985</td>\n",
       "      <td>0.750254</td>\n",
       "    </tr>\n",
       "    <tr>\n",
       "      <th>3</th>\n",
       "      <td>February</td>\n",
       "      <td>620.0</td>\n",
       "      <td>1050</td>\n",
       "      <td>0.590476</td>\n",
       "    </tr>\n",
       "    <tr>\n",
       "      <th>7</th>\n",
       "      <td>March</td>\n",
       "      <td>1229.0</td>\n",
       "      <td>1339</td>\n",
       "      <td>0.917849</td>\n",
       "    </tr>\n",
       "    <tr>\n",
       "      <th>0</th>\n",
       "      <td>April</td>\n",
       "      <td>693.0</td>\n",
       "      <td>1361</td>\n",
       "      <td>0.509184</td>\n",
       "    </tr>\n",
       "    <tr>\n",
       "      <th>8</th>\n",
       "      <td>May</td>\n",
       "      <td>1185.0</td>\n",
       "      <td>1707</td>\n",
       "      <td>0.694200</td>\n",
       "    </tr>\n",
       "    <tr>\n",
       "      <th>6</th>\n",
       "      <td>June</td>\n",
       "      <td>624.0</td>\n",
       "      <td>1967</td>\n",
       "      <td>0.317234</td>\n",
       "    </tr>\n",
       "    <tr>\n",
       "      <th>5</th>\n",
       "      <td>July</td>\n",
       "      <td>1355.0</td>\n",
       "      <td>2160</td>\n",
       "      <td>0.627315</td>\n",
       "    </tr>\n",
       "    <tr>\n",
       "      <th>1</th>\n",
       "      <td>August</td>\n",
       "      <td>783.0</td>\n",
       "      <td>1989</td>\n",
       "      <td>0.393665</td>\n",
       "    </tr>\n",
       "    <tr>\n",
       "      <th>11</th>\n",
       "      <td>September</td>\n",
       "      <td>664.0</td>\n",
       "      <td>1780</td>\n",
       "      <td>0.373034</td>\n",
       "    </tr>\n",
       "    <tr>\n",
       "      <th>10</th>\n",
       "      <td>October</td>\n",
       "      <td>993.0</td>\n",
       "      <td>1460</td>\n",
       "      <td>0.680137</td>\n",
       "    </tr>\n",
       "    <tr>\n",
       "      <th>9</th>\n",
       "      <td>November</td>\n",
       "      <td>662.0</td>\n",
       "      <td>1075</td>\n",
       "      <td>0.615814</td>\n",
       "    </tr>\n",
       "    <tr>\n",
       "      <th>2</th>\n",
       "      <td>December</td>\n",
       "      <td>637.0</td>\n",
       "      <td>923</td>\n",
       "      <td>0.690141</td>\n",
       "    </tr>\n",
       "  </tbody>\n",
       "</table>\n",
       "</div>"
      ],
      "text/plain": [
       "        Month  Total.Fatal.Injuries  Total Accidents  Safety Ratio\n",
       "4     January                 739.0              985      0.750254\n",
       "3    February                 620.0             1050      0.590476\n",
       "7       March                1229.0             1339      0.917849\n",
       "0       April                 693.0             1361      0.509184\n",
       "8         May                1185.0             1707      0.694200\n",
       "6        June                 624.0             1967      0.317234\n",
       "5        July                1355.0             2160      0.627315\n",
       "1      August                 783.0             1989      0.393665\n",
       "11  September                 664.0             1780      0.373034\n",
       "10    October                 993.0             1460      0.680137\n",
       "9    November                 662.0             1075      0.615814\n",
       "2    December                 637.0              923      0.690141"
      ]
     },
     "execution_count": 10,
     "metadata": {},
     "output_type": "execute_result"
    }
   ],
   "source": [
    "# Creating a new df to work with \n",
    "time_df = master_df.copy()\n",
    "\n",
    "# adding a column 'Month' through the 'Event.Date' Column\n",
    "time_df['Month'] = time_df['Event.Date'].dt.month_name()\n",
    "\n",
    "# Creating a new df and grouping by Months\n",
    "monthly_accidents = time_df.groupby('Month').agg({\n",
    "    'Total.Fatal.Injuries': 'sum',\n",
    "    'Event.Date': 'size'\n",
    "}).reset_index()\n",
    "\n",
    "#Creating a List of Months to use \n",
    "months_order =['January', 'February', 'March', 'April', 'May', 'June', 'July',\n",
    "               'August', 'September', 'October', 'November', 'December']\n",
    "\n",
    "# Converting 'Month' column to a categorical variable in Month order\n",
    "monthly_accidents['Month'] = pd.Categorical(monthly_accidents['Month'],\n",
    "                                            categories=months_order, ordered=True)\n",
    "\n",
    "# Rename Event.Date to 'Total Accidents'\n",
    "monthly_accidents = monthly_accidents.rename(columns={'Event.Date': 'Total Accidents'})\n",
    "\n",
    "# Sorting Accidents by months\n",
    "monthly_accidents = monthly_accidents.sort_values('Month')\n",
    "\n",
    "# Creating Safety Ratio by Total Fatal Injuries/Total Accidents\n",
    "monthly_accidents['Safety Ratio'] = monthly_accidents['Total.Fatal.Injuries'] / monthly_accidents['Total Accidents']\n",
    "\n",
    "monthly_accidents"
   ]
  },
  {
   "cell_type": "markdown",
   "metadata": {},
   "source": [
    "### Location "
   ]
  },
  {
   "cell_type": "markdown",
   "metadata": {},
   "source": [
    "For the location data, a new dataframe was created to work with. The dataframe is changed to include only accidents in the United States. From the 'Location' column the state code was stripped from the string value and inserted into a new column named 'State'. Doing so allows us to isolate the accidents by state. Uneccessary state codes were removed, and the dataframe was grouped by state, total fatal injuries, total accidents, and safety ratio was created for each state. The dataframe was then sorted by descending total accidents."
   ]
  },
  {
   "cell_type": "code",
   "execution_count": 11,
   "metadata": {},
   "outputs": [],
   "source": [
    "# Creating a new df to work with\n",
    "location_df = master_df.copy()\n",
    "\n",
    "# Only keeping United States from the country column\n",
    "location_df = location_df[location_df['Country'] =='United States']"
   ]
  },
  {
   "cell_type": "code",
   "execution_count": 12,
   "metadata": {
    "scrolled": false
   },
   "outputs": [
    {
     "data": {
      "text/plain": [
       "VT    1\n",
       "DE    1\n",
       "OF    1\n",
       "MT    1\n",
       "MD    1\n",
       "SC    1\n",
       "RI    1\n",
       "HI    1\n",
       "GA    1\n",
       "IN    1\n",
       "MS    1\n",
       "VA    1\n",
       "ID    1\n",
       "PO    1\n",
       "AO    1\n",
       "NH    1\n",
       "ME    1\n",
       "CO    1\n",
       "NY    1\n",
       "MA    1\n",
       "PR    1\n",
       "NC    1\n",
       "LA    1\n",
       "OK    1\n",
       "OR    1\n",
       "NM    1\n",
       "WA    1\n",
       "TN    1\n",
       "CT    1\n",
       "AK    1\n",
       "WY    1\n",
       "DC    1\n",
       "KS    1\n",
       "TX    1\n",
       "MN    1\n",
       "MI    1\n",
       "PA    1\n",
       "ND    1\n",
       "KY    1\n",
       "IA    1\n",
       "AR    1\n",
       "NV    1\n",
       "NE    1\n",
       "WI    1\n",
       "NJ    1\n",
       "SD    1\n",
       "OH    1\n",
       "GM    1\n",
       "UT    1\n",
       "AZ    1\n",
       "FL    1\n",
       "AL    1\n",
       "CA    1\n",
       "MO    1\n",
       "IL    1\n",
       "WV    1\n",
       "Name: State, dtype: int64"
      ]
     },
     "execution_count": 12,
     "metadata": {},
     "output_type": "execute_result"
    }
   ],
   "source": [
    "# Making a new column and extracting the state from the 'Location' column\n",
    "location_df['State'] = location_df['Location'].apply(lambda x: x.split(',')[-1].strip() if ',' in str(x) else None)\n",
    "\n",
    "# Making a new df and grouping by State, Total Fatal Injuries, and Total Accidents\n",
    "state_accident_count = location_df.groupby('State').agg({\n",
    "    'Total.Fatal.Injuries': 'sum',\n",
    "    'Event.Id': 'size'\n",
    "}).reset_index()\n",
    "\n",
    "# Rename the count column to 'Accident Count' and 'Location' to 'Total Accidents'\n",
    "state_accident_count = state_accident_count.rename(columns={'Event.Id': 'Total Accidents'})\n",
    "\n",
    "# Drops rows where the state column is blank\n",
    "state_accident_count = state_accident_count[state_accident_count['State'].str.strip() != '']\n",
    "\n",
    "# Sorted to descending\n",
    "state_accident_count =state_accident_count.sort_values(by='Total Accidents', ascending=False)\n",
    "\n",
    "# Checking Values of States to check for unwanted country codes or territories\n",
    "state_accident_count['State'].value_counts()"
   ]
  },
  {
   "cell_type": "code",
   "execution_count": 13,
   "metadata": {
    "scrolled": false
   },
   "outputs": [
    {
     "data": {
      "text/html": [
       "<div>\n",
       "<style scoped>\n",
       "    .dataframe tbody tr th:only-of-type {\n",
       "        vertical-align: middle;\n",
       "    }\n",
       "\n",
       "    .dataframe tbody tr th {\n",
       "        vertical-align: top;\n",
       "    }\n",
       "\n",
       "    .dataframe thead th {\n",
       "        text-align: right;\n",
       "    }\n",
       "</style>\n",
       "<table border=\"1\" class=\"dataframe\">\n",
       "  <thead>\n",
       "    <tr style=\"text-align: right;\">\n",
       "      <th></th>\n",
       "      <th>State</th>\n",
       "      <th>Total.Fatal.Injuries</th>\n",
       "      <th>Total Accidents</th>\n",
       "      <th>Safety Ratio</th>\n",
       "    </tr>\n",
       "  </thead>\n",
       "  <tbody>\n",
       "    <tr>\n",
       "      <th>6</th>\n",
       "      <td>CA</td>\n",
       "      <td>447.0</td>\n",
       "      <td>1350</td>\n",
       "      <td>0.331111</td>\n",
       "    </tr>\n",
       "    <tr>\n",
       "      <th>49</th>\n",
       "      <td>TX</td>\n",
       "      <td>342.0</td>\n",
       "      <td>1222</td>\n",
       "      <td>0.279869</td>\n",
       "    </tr>\n",
       "    <tr>\n",
       "      <th>11</th>\n",
       "      <td>FL</td>\n",
       "      <td>317.0</td>\n",
       "      <td>1116</td>\n",
       "      <td>0.284050</td>\n",
       "    </tr>\n",
       "    <tr>\n",
       "      <th>1</th>\n",
       "      <td>AK</td>\n",
       "      <td>224.0</td>\n",
       "      <td>1080</td>\n",
       "      <td>0.207407</td>\n",
       "    </tr>\n",
       "    <tr>\n",
       "      <th>5</th>\n",
       "      <td>AZ</td>\n",
       "      <td>144.0</td>\n",
       "      <td>550</td>\n",
       "      <td>0.261818</td>\n",
       "    </tr>\n",
       "    <tr>\n",
       "      <th>7</th>\n",
       "      <td>CO</td>\n",
       "      <td>150.0</td>\n",
       "      <td>483</td>\n",
       "      <td>0.310559</td>\n",
       "    </tr>\n",
       "    <tr>\n",
       "      <th>53</th>\n",
       "      <td>WA</td>\n",
       "      <td>93.0</td>\n",
       "      <td>457</td>\n",
       "      <td>0.203501</td>\n",
       "    </tr>\n",
       "    <tr>\n",
       "      <th>12</th>\n",
       "      <td>GA</td>\n",
       "      <td>174.0</td>\n",
       "      <td>447</td>\n",
       "      <td>0.389262</td>\n",
       "    </tr>\n",
       "    <tr>\n",
       "      <th>16</th>\n",
       "      <td>ID</td>\n",
       "      <td>84.0</td>\n",
       "      <td>369</td>\n",
       "      <td>0.227642</td>\n",
       "    </tr>\n",
       "    <tr>\n",
       "      <th>30</th>\n",
       "      <td>NC</td>\n",
       "      <td>97.0</td>\n",
       "      <td>359</td>\n",
       "      <td>0.270195</td>\n",
       "    </tr>\n",
       "    <tr>\n",
       "      <th>37</th>\n",
       "      <td>NY</td>\n",
       "      <td>98.0</td>\n",
       "      <td>346</td>\n",
       "      <td>0.283237</td>\n",
       "    </tr>\n",
       "    <tr>\n",
       "      <th>39</th>\n",
       "      <td>OH</td>\n",
       "      <td>103.0</td>\n",
       "      <td>342</td>\n",
       "      <td>0.301170</td>\n",
       "    </tr>\n",
       "    <tr>\n",
       "      <th>41</th>\n",
       "      <td>OR</td>\n",
       "      <td>85.0</td>\n",
       "      <td>326</td>\n",
       "      <td>0.260736</td>\n",
       "    </tr>\n",
       "    <tr>\n",
       "      <th>17</th>\n",
       "      <td>IL</td>\n",
       "      <td>80.0</td>\n",
       "      <td>320</td>\n",
       "      <td>0.250000</td>\n",
       "    </tr>\n",
       "    <tr>\n",
       "      <th>42</th>\n",
       "      <td>PA</td>\n",
       "      <td>62.0</td>\n",
       "      <td>311</td>\n",
       "      <td>0.199357</td>\n",
       "    </tr>\n",
       "    <tr>\n",
       "      <th>25</th>\n",
       "      <td>MI</td>\n",
       "      <td>96.0</td>\n",
       "      <td>308</td>\n",
       "      <td>0.311688</td>\n",
       "    </tr>\n",
       "    <tr>\n",
       "      <th>54</th>\n",
       "      <td>WI</td>\n",
       "      <td>75.0</td>\n",
       "      <td>279</td>\n",
       "      <td>0.268817</td>\n",
       "    </tr>\n",
       "    <tr>\n",
       "      <th>51</th>\n",
       "      <td>VA</td>\n",
       "      <td>64.0</td>\n",
       "      <td>273</td>\n",
       "      <td>0.234432</td>\n",
       "    </tr>\n",
       "    <tr>\n",
       "      <th>27</th>\n",
       "      <td>MO</td>\n",
       "      <td>72.0</td>\n",
       "      <td>273</td>\n",
       "      <td>0.263736</td>\n",
       "    </tr>\n",
       "    <tr>\n",
       "      <th>50</th>\n",
       "      <td>UT</td>\n",
       "      <td>103.0</td>\n",
       "      <td>260</td>\n",
       "      <td>0.396154</td>\n",
       "    </tr>\n",
       "    <tr>\n",
       "      <th>26</th>\n",
       "      <td>MN</td>\n",
       "      <td>54.0</td>\n",
       "      <td>254</td>\n",
       "      <td>0.212598</td>\n",
       "    </tr>\n",
       "    <tr>\n",
       "      <th>36</th>\n",
       "      <td>NV</td>\n",
       "      <td>76.0</td>\n",
       "      <td>250</td>\n",
       "      <td>0.304000</td>\n",
       "    </tr>\n",
       "    <tr>\n",
       "      <th>4</th>\n",
       "      <td>AR</td>\n",
       "      <td>74.0</td>\n",
       "      <td>242</td>\n",
       "      <td>0.305785</td>\n",
       "    </tr>\n",
       "    <tr>\n",
       "      <th>48</th>\n",
       "      <td>TN</td>\n",
       "      <td>70.0</td>\n",
       "      <td>241</td>\n",
       "      <td>0.290456</td>\n",
       "    </tr>\n",
       "    <tr>\n",
       "      <th>18</th>\n",
       "      <td>IN</td>\n",
       "      <td>66.0</td>\n",
       "      <td>238</td>\n",
       "      <td>0.277311</td>\n",
       "    </tr>\n",
       "    <tr>\n",
       "      <th>19</th>\n",
       "      <td>KS</td>\n",
       "      <td>46.0</td>\n",
       "      <td>218</td>\n",
       "      <td>0.211009</td>\n",
       "    </tr>\n",
       "    <tr>\n",
       "      <th>35</th>\n",
       "      <td>NM</td>\n",
       "      <td>77.0</td>\n",
       "      <td>212</td>\n",
       "      <td>0.363208</td>\n",
       "    </tr>\n",
       "    <tr>\n",
       "      <th>40</th>\n",
       "      <td>OK</td>\n",
       "      <td>72.0</td>\n",
       "      <td>207</td>\n",
       "      <td>0.347826</td>\n",
       "    </tr>\n",
       "    <tr>\n",
       "      <th>21</th>\n",
       "      <td>LA</td>\n",
       "      <td>67.0</td>\n",
       "      <td>206</td>\n",
       "      <td>0.325243</td>\n",
       "    </tr>\n",
       "    <tr>\n",
       "      <th>29</th>\n",
       "      <td>MT</td>\n",
       "      <td>56.0</td>\n",
       "      <td>202</td>\n",
       "      <td>0.277228</td>\n",
       "    </tr>\n",
       "    <tr>\n",
       "      <th>46</th>\n",
       "      <td>SC</td>\n",
       "      <td>54.0</td>\n",
       "      <td>197</td>\n",
       "      <td>0.274112</td>\n",
       "    </tr>\n",
       "    <tr>\n",
       "      <th>2</th>\n",
       "      <td>AL</td>\n",
       "      <td>74.0</td>\n",
       "      <td>187</td>\n",
       "      <td>0.395722</td>\n",
       "    </tr>\n",
       "    <tr>\n",
       "      <th>34</th>\n",
       "      <td>NJ</td>\n",
       "      <td>42.0</td>\n",
       "      <td>177</td>\n",
       "      <td>0.237288</td>\n",
       "    </tr>\n",
       "    <tr>\n",
       "      <th>23</th>\n",
       "      <td>MD</td>\n",
       "      <td>22.0</td>\n",
       "      <td>171</td>\n",
       "      <td>0.128655</td>\n",
       "    </tr>\n",
       "    <tr>\n",
       "      <th>15</th>\n",
       "      <td>IA</td>\n",
       "      <td>44.0</td>\n",
       "      <td>158</td>\n",
       "      <td>0.278481</td>\n",
       "    </tr>\n",
       "    <tr>\n",
       "      <th>56</th>\n",
       "      <td>WY</td>\n",
       "      <td>48.0</td>\n",
       "      <td>149</td>\n",
       "      <td>0.322148</td>\n",
       "    </tr>\n",
       "    <tr>\n",
       "      <th>22</th>\n",
       "      <td>MA</td>\n",
       "      <td>37.0</td>\n",
       "      <td>133</td>\n",
       "      <td>0.278195</td>\n",
       "    </tr>\n",
       "    <tr>\n",
       "      <th>28</th>\n",
       "      <td>MS</td>\n",
       "      <td>50.0</td>\n",
       "      <td>131</td>\n",
       "      <td>0.381679</td>\n",
       "    </tr>\n",
       "    <tr>\n",
       "      <th>20</th>\n",
       "      <td>KY</td>\n",
       "      <td>29.0</td>\n",
       "      <td>122</td>\n",
       "      <td>0.237705</td>\n",
       "    </tr>\n",
       "    <tr>\n",
       "      <th>32</th>\n",
       "      <td>NE</td>\n",
       "      <td>42.0</td>\n",
       "      <td>120</td>\n",
       "      <td>0.350000</td>\n",
       "    </tr>\n",
       "    <tr>\n",
       "      <th>24</th>\n",
       "      <td>ME</td>\n",
       "      <td>24.0</td>\n",
       "      <td>96</td>\n",
       "      <td>0.250000</td>\n",
       "    </tr>\n",
       "    <tr>\n",
       "      <th>47</th>\n",
       "      <td>SD</td>\n",
       "      <td>46.0</td>\n",
       "      <td>94</td>\n",
       "      <td>0.489362</td>\n",
       "    </tr>\n",
       "    <tr>\n",
       "      <th>8</th>\n",
       "      <td>CT</td>\n",
       "      <td>29.0</td>\n",
       "      <td>87</td>\n",
       "      <td>0.333333</td>\n",
       "    </tr>\n",
       "    <tr>\n",
       "      <th>31</th>\n",
       "      <td>ND</td>\n",
       "      <td>17.0</td>\n",
       "      <td>87</td>\n",
       "      <td>0.195402</td>\n",
       "    </tr>\n",
       "    <tr>\n",
       "      <th>14</th>\n",
       "      <td>HI</td>\n",
       "      <td>36.0</td>\n",
       "      <td>62</td>\n",
       "      <td>0.580645</td>\n",
       "    </tr>\n",
       "    <tr>\n",
       "      <th>55</th>\n",
       "      <td>WV</td>\n",
       "      <td>23.0</td>\n",
       "      <td>61</td>\n",
       "      <td>0.377049</td>\n",
       "    </tr>\n",
       "    <tr>\n",
       "      <th>33</th>\n",
       "      <td>NH</td>\n",
       "      <td>9.0</td>\n",
       "      <td>56</td>\n",
       "      <td>0.160714</td>\n",
       "    </tr>\n",
       "    <tr>\n",
       "      <th>52</th>\n",
       "      <td>VT</td>\n",
       "      <td>4.0</td>\n",
       "      <td>38</td>\n",
       "      <td>0.105263</td>\n",
       "    </tr>\n",
       "    <tr>\n",
       "      <th>45</th>\n",
       "      <td>RI</td>\n",
       "      <td>0.0</td>\n",
       "      <td>19</td>\n",
       "      <td>0.000000</td>\n",
       "    </tr>\n",
       "    <tr>\n",
       "      <th>10</th>\n",
       "      <td>DE</td>\n",
       "      <td>4.0</td>\n",
       "      <td>18</td>\n",
       "      <td>0.222222</td>\n",
       "    </tr>\n",
       "  </tbody>\n",
       "</table>\n",
       "</div>"
      ],
      "text/plain": [
       "   State  Total.Fatal.Injuries  Total Accidents  Safety Ratio\n",
       "6     CA                 447.0             1350      0.331111\n",
       "49    TX                 342.0             1222      0.279869\n",
       "11    FL                 317.0             1116      0.284050\n",
       "1     AK                 224.0             1080      0.207407\n",
       "5     AZ                 144.0              550      0.261818\n",
       "7     CO                 150.0              483      0.310559\n",
       "53    WA                  93.0              457      0.203501\n",
       "12    GA                 174.0              447      0.389262\n",
       "16    ID                  84.0              369      0.227642\n",
       "30    NC                  97.0              359      0.270195\n",
       "37    NY                  98.0              346      0.283237\n",
       "39    OH                 103.0              342      0.301170\n",
       "41    OR                  85.0              326      0.260736\n",
       "17    IL                  80.0              320      0.250000\n",
       "42    PA                  62.0              311      0.199357\n",
       "25    MI                  96.0              308      0.311688\n",
       "54    WI                  75.0              279      0.268817\n",
       "51    VA                  64.0              273      0.234432\n",
       "27    MO                  72.0              273      0.263736\n",
       "50    UT                 103.0              260      0.396154\n",
       "26    MN                  54.0              254      0.212598\n",
       "36    NV                  76.0              250      0.304000\n",
       "4     AR                  74.0              242      0.305785\n",
       "48    TN                  70.0              241      0.290456\n",
       "18    IN                  66.0              238      0.277311\n",
       "19    KS                  46.0              218      0.211009\n",
       "35    NM                  77.0              212      0.363208\n",
       "40    OK                  72.0              207      0.347826\n",
       "21    LA                  67.0              206      0.325243\n",
       "29    MT                  56.0              202      0.277228\n",
       "46    SC                  54.0              197      0.274112\n",
       "2     AL                  74.0              187      0.395722\n",
       "34    NJ                  42.0              177      0.237288\n",
       "23    MD                  22.0              171      0.128655\n",
       "15    IA                  44.0              158      0.278481\n",
       "56    WY                  48.0              149      0.322148\n",
       "22    MA                  37.0              133      0.278195\n",
       "28    MS                  50.0              131      0.381679\n",
       "20    KY                  29.0              122      0.237705\n",
       "32    NE                  42.0              120      0.350000\n",
       "24    ME                  24.0               96      0.250000\n",
       "47    SD                  46.0               94      0.489362\n",
       "8     CT                  29.0               87      0.333333\n",
       "31    ND                  17.0               87      0.195402\n",
       "14    HI                  36.0               62      0.580645\n",
       "55    WV                  23.0               61      0.377049\n",
       "33    NH                   9.0               56      0.160714\n",
       "52    VT                   4.0               38      0.105263\n",
       "45    RI                   0.0               19      0.000000\n",
       "10    DE                   4.0               18      0.222222"
      ]
     },
     "execution_count": 13,
     "metadata": {},
     "output_type": "execute_result"
    }
   ],
   "source": [
    "# List of State Codes to Remove\n",
    "codes_to_remove = ['AO', 'OF', 'PO', 'DC', 'GU', 'GM', 'VI','PR']\n",
    "\n",
    "# Removing Codes not used for the United States of America \n",
    "state_accident_count = state_accident_count[~state_accident_count['State'].isin(codes_to_remove)]\n",
    "\n",
    "#Creating a Safety Column by Total Fatalities/Total Accidents\n",
    "state_accident_count['Safety Ratio'] = state_accident_count['Total.Fatal.Injuries'] / state_accident_count['Total Accidents']\n",
    "\n",
    "state_accident_count"
   ]
  },
  {
   "cell_type": "markdown",
   "metadata": {},
   "source": [
    "### Number of Engines"
   ]
  },
  {
   "cell_type": "markdown",
   "metadata": {},
   "source": [
    "For the number of engines data, a new dataframe was created to work with. Removed values representing zero engines, then grouped the data by total fatal injuries, total accidents, and the safety ratio was created for each amount of engines a airplane had."
   ]
  },
  {
   "cell_type": "code",
   "execution_count": 14,
   "metadata": {},
   "outputs": [],
   "source": [
    "# Creating a new df to work with\n",
    "engine_df = master_df.copy()"
   ]
  },
  {
   "cell_type": "code",
   "execution_count": 15,
   "metadata": {
    "scrolled": false
   },
   "outputs": [
    {
     "data": {
      "text/plain": [
       "1.0    15473\n",
       "2.0     2236\n",
       "4.0       69\n",
       "3.0       15\n",
       "6.0        1\n",
       "8.0        1\n",
       "0.0        1\n",
       "Name: Number.of.Engines, dtype: int64"
      ]
     },
     "execution_count": 15,
     "metadata": {},
     "output_type": "execute_result"
    }
   ],
   "source": [
    "# Checking values of column 'Number of Engines'\n",
    "engine_df['Number.of.Engines'].value_counts()"
   ]
  },
  {
   "cell_type": "code",
   "execution_count": 16,
   "metadata": {},
   "outputs": [],
   "source": [
    "# Removing the values that represent zero engines\n",
    "engine_df = engine_df[engine_df['Number.of.Engines'] != 0]"
   ]
  },
  {
   "cell_type": "code",
   "execution_count": 17,
   "metadata": {},
   "outputs": [
    {
     "data": {
      "text/plain": [
       "1.0    15473\n",
       "2.0     2236\n",
       "4.0       69\n",
       "3.0       15\n",
       "6.0        1\n",
       "8.0        1\n",
       "Name: Number.of.Engines, dtype: int64"
      ]
     },
     "execution_count": 17,
     "metadata": {},
     "output_type": "execute_result"
    }
   ],
   "source": [
    "# Checking for removal of value\n",
    "engine_df['Number.of.Engines'].value_counts()"
   ]
  },
  {
   "cell_type": "code",
   "execution_count": 18,
   "metadata": {
    "scrolled": false
   },
   "outputs": [
    {
     "data": {
      "text/html": [
       "<div>\n",
       "<style scoped>\n",
       "    .dataframe tbody tr th:only-of-type {\n",
       "        vertical-align: middle;\n",
       "    }\n",
       "\n",
       "    .dataframe tbody tr th {\n",
       "        vertical-align: top;\n",
       "    }\n",
       "\n",
       "    .dataframe thead th {\n",
       "        text-align: right;\n",
       "    }\n",
       "</style>\n",
       "<table border=\"1\" class=\"dataframe\">\n",
       "  <thead>\n",
       "    <tr style=\"text-align: right;\">\n",
       "      <th></th>\n",
       "      <th>Number.of.Engines</th>\n",
       "      <th>Total.Fatal.Injuries</th>\n",
       "      <th>Total Accidents</th>\n",
       "      <th>Safety Ratio</th>\n",
       "    </tr>\n",
       "  </thead>\n",
       "  <tbody>\n",
       "    <tr>\n",
       "      <th>0</th>\n",
       "      <td>1.0</td>\n",
       "      <td>8063.0</td>\n",
       "      <td>15473</td>\n",
       "      <td>0.521101</td>\n",
       "    </tr>\n",
       "    <tr>\n",
       "      <th>1</th>\n",
       "      <td>2.0</td>\n",
       "      <td>1927.0</td>\n",
       "      <td>2236</td>\n",
       "      <td>0.861807</td>\n",
       "    </tr>\n",
       "    <tr>\n",
       "      <th>2</th>\n",
       "      <td>3.0</td>\n",
       "      <td>168.0</td>\n",
       "      <td>15</td>\n",
       "      <td>11.200000</td>\n",
       "    </tr>\n",
       "    <tr>\n",
       "      <th>3</th>\n",
       "      <td>4.0</td>\n",
       "      <td>26.0</td>\n",
       "      <td>69</td>\n",
       "      <td>0.376812</td>\n",
       "    </tr>\n",
       "    <tr>\n",
       "      <th>4</th>\n",
       "      <td>6.0</td>\n",
       "      <td>0.0</td>\n",
       "      <td>1</td>\n",
       "      <td>0.000000</td>\n",
       "    </tr>\n",
       "    <tr>\n",
       "      <th>5</th>\n",
       "      <td>8.0</td>\n",
       "      <td>0.0</td>\n",
       "      <td>1</td>\n",
       "      <td>0.000000</td>\n",
       "    </tr>\n",
       "  </tbody>\n",
       "</table>\n",
       "</div>"
      ],
      "text/plain": [
       "   Number.of.Engines  Total.Fatal.Injuries  Total Accidents  Safety Ratio\n",
       "0                1.0                8063.0            15473      0.521101\n",
       "1                2.0                1927.0             2236      0.861807\n",
       "2                3.0                 168.0               15     11.200000\n",
       "3                4.0                  26.0               69      0.376812\n",
       "4                6.0                   0.0                1      0.000000\n",
       "5                8.0                   0.0                1      0.000000"
      ]
     },
     "execution_count": 18,
     "metadata": {},
     "output_type": "execute_result"
    }
   ],
   "source": [
    "# Creating a new df grouped by number of engines, total fatal injuries, and Total Accidents\n",
    "new_engine_df = engine_df.groupby('Number.of.Engines').agg({\n",
    "    'Total.Fatal.Injuries': 'sum',\n",
    "    'Event.Id':'size'\n",
    "}).reset_index()\n",
    "\n",
    "# Rename the count column to 'Accident Count' and 'Location' to 'Total Accidents'\n",
    "new_engine_df = new_engine_df.rename(columns={'Event.Id': 'Total Accidents'})\n",
    "\n",
    "# Creating a Safety Ratio Column bt Total Fatal Accidents/Total Accidents\n",
    "new_engine_df['Safety Ratio'] = new_engine_df['Total.Fatal.Injuries'] / new_engine_df['Total Accidents']\n",
    "\n",
    "new_engine_df"
   ]
  },
  {
   "cell_type": "markdown",
   "metadata": {},
   "source": [
    "### Makes With 4 Engines"
   ]
  },
  {
   "cell_type": "markdown",
   "metadata": {},
   "source": [
    "Further investigating Makes of airplanes with four engines by creating a new dataframe that only included rows where the column 'Number.of.Engines' equalled four. The dataframe Make values were cleaned, the data was then grouped by make, total fatal injuries, total accidents and safety ratio."
   ]
  },
  {
   "cell_type": "code",
   "execution_count": 19,
   "metadata": {},
   "outputs": [],
   "source": [
    "# Creating a new df with entries only having 4 engines\n",
    "# and has columns 'Make','Model', and 'Total Fatal Injuries'\n",
    "four_engines = engine_df[engine_df['Number.of.Engines'] == 4][['Make','Model','Total.Fatal.Injuries']]"
   ]
  },
  {
   "cell_type": "code",
   "execution_count": 20,
   "metadata": {},
   "outputs": [
    {
     "data": {
      "text/plain": [
       "BOEING                            45\n",
       "DOUGLAS                            7\n",
       "BAE                                3\n",
       "LOCKHEED                           3\n",
       "Boeing                             3\n",
       "AIRBUS                             2\n",
       "British Aerospace Civil Aircr      1\n",
       "PYKA INC                           1\n",
       "BRITISH AEROSPACE                  1\n",
       "BAE SYSTEMS (OPERATIONS) LIMIT     1\n",
       "FACEBOOK UK LTD                    1\n",
       "ANTONOV                            1\n",
       "Name: Make, dtype: int64"
      ]
     },
     "execution_count": 20,
     "metadata": {},
     "output_type": "execute_result"
    }
   ],
   "source": [
    "# Checking value counts\n",
    "four_engines['Make'].value_counts()"
   ]
  },
  {
   "cell_type": "code",
   "execution_count": 21,
   "metadata": {},
   "outputs": [],
   "source": [
    "# Cleaning Make values\n",
    "# Removing value Facebook UK LTD\n",
    "four_engines = four_engines[four_engines['Make'] != 'FACEBOOK UK LTD']\n",
    "\n",
    "# Changing all values to lowercase\n",
    "four_engines['Make'] = four_engines['Make'].str.lower()\n",
    "\n",
    "# List of name corrections for 'British Aerospace'\n",
    "bae_changes = ['bae','bae systems (operations) limit','british aerospace civil aircr']\n",
    "bae_value = 'british aerospace'\n",
    "\n",
    "# Commiting name changes for 'British Aerospace' and returning to uppercase\n",
    "four_engines['Make'] = four_engines['Make'].replace(bae_changes, bae_value)\n",
    "\n",
    "# Changing back to all capitalized\n",
    "four_engines['Make'] = four_engines['Make'].str.upper()"
   ]
  },
  {
   "cell_type": "code",
   "execution_count": 22,
   "metadata": {},
   "outputs": [
    {
     "data": {
      "text/html": [
       "<div>\n",
       "<style scoped>\n",
       "    .dataframe tbody tr th:only-of-type {\n",
       "        vertical-align: middle;\n",
       "    }\n",
       "\n",
       "    .dataframe tbody tr th {\n",
       "        vertical-align: top;\n",
       "    }\n",
       "\n",
       "    .dataframe thead th {\n",
       "        text-align: right;\n",
       "    }\n",
       "</style>\n",
       "<table border=\"1\" class=\"dataframe\">\n",
       "  <thead>\n",
       "    <tr style=\"text-align: right;\">\n",
       "      <th></th>\n",
       "      <th>Make</th>\n",
       "      <th>Total.Fatal.Injuries</th>\n",
       "      <th>Total Accidents</th>\n",
       "      <th>Safety Ratio</th>\n",
       "    </tr>\n",
       "  </thead>\n",
       "  <tbody>\n",
       "    <tr>\n",
       "      <th>2</th>\n",
       "      <td>BOEING</td>\n",
       "      <td>24.0</td>\n",
       "      <td>48</td>\n",
       "      <td>0.500000</td>\n",
       "    </tr>\n",
       "    <tr>\n",
       "      <th>4</th>\n",
       "      <td>DOUGLAS</td>\n",
       "      <td>0.0</td>\n",
       "      <td>7</td>\n",
       "      <td>0.000000</td>\n",
       "    </tr>\n",
       "    <tr>\n",
       "      <th>3</th>\n",
       "      <td>BRITISH AEROSPACE</td>\n",
       "      <td>0.0</td>\n",
       "      <td>6</td>\n",
       "      <td>0.000000</td>\n",
       "    </tr>\n",
       "    <tr>\n",
       "      <th>5</th>\n",
       "      <td>LOCKHEED</td>\n",
       "      <td>2.0</td>\n",
       "      <td>3</td>\n",
       "      <td>0.666667</td>\n",
       "    </tr>\n",
       "    <tr>\n",
       "      <th>0</th>\n",
       "      <td>AIRBUS</td>\n",
       "      <td>0.0</td>\n",
       "      <td>2</td>\n",
       "      <td>0.000000</td>\n",
       "    </tr>\n",
       "    <tr>\n",
       "      <th>1</th>\n",
       "      <td>ANTONOV</td>\n",
       "      <td>0.0</td>\n",
       "      <td>1</td>\n",
       "      <td>0.000000</td>\n",
       "    </tr>\n",
       "    <tr>\n",
       "      <th>6</th>\n",
       "      <td>PYKA INC</td>\n",
       "      <td>0.0</td>\n",
       "      <td>1</td>\n",
       "      <td>0.000000</td>\n",
       "    </tr>\n",
       "  </tbody>\n",
       "</table>\n",
       "</div>"
      ],
      "text/plain": [
       "                Make  Total.Fatal.Injuries  Total Accidents  Safety Ratio\n",
       "2             BOEING                  24.0               48      0.500000\n",
       "4            DOUGLAS                   0.0                7      0.000000\n",
       "3  BRITISH AEROSPACE                   0.0                6      0.000000\n",
       "5           LOCKHEED                   2.0                3      0.666667\n",
       "0             AIRBUS                   0.0                2      0.000000\n",
       "1            ANTONOV                   0.0                1      0.000000\n",
       "6           PYKA INC                   0.0                1      0.000000"
      ]
     },
     "execution_count": 22,
     "metadata": {},
     "output_type": "execute_result"
    }
   ],
   "source": [
    "# Making a new df and grouping Make, total fatal injuries, and total accidents\n",
    "make_engines = four_engines.groupby(['Make']).agg({\n",
    "    'Total.Fatal.Injuries': 'sum',\n",
    "    'Model': 'count'\n",
    "}).reset_index()\n",
    "\n",
    "# Rename the count column to 'Total Accidents'\n",
    "make_engines = make_engines.rename(columns={'Model': 'Total Accidents'})\n",
    "\n",
    "# Sorting the df by Total accidents descending\n",
    "make_engines = make_engines.sort_values(by='Total Accidents', ascending=False)\n",
    "\n",
    "# Creating a Safety Ratio by Total Fatal Injuries / Total Accidents\n",
    "make_engines['Safety Ratio'] = make_engines['Total.Fatal.Injuries'] / make_engines['Total Accidents']\n",
    "make_engines"
   ]
  },
  {
   "cell_type": "markdown",
   "metadata": {},
   "source": [
    "## Exploratory Data Analysis"
   ]
  },
  {
   "cell_type": "markdown",
   "metadata": {},
   "source": [
    "For each section we cleaned and sorted, graphs were created for total fatal injuries, total accidents, and the safety ratio that was created by total fatal injuries divided by the total fatal accidents. From these graphs we're able to see trends in areas we can focus on."
   ]
  },
  {
   "cell_type": "markdown",
   "metadata": {},
   "source": [
    "### Time"
   ]
  },
  {
   "cell_type": "code",
   "execution_count": 23,
   "metadata": {
    "scrolled": false
   },
   "outputs": [
    {
     "data": {
      "image/png": "[encoded data removed]",
      "text/plain": [
       "<Figure size 864x576 with 1 Axes>"
      ]
     },
     "metadata": {
      "needs_background": "light"
     },
     "output_type": "display_data"
    }
   ],
   "source": [
    "# Total Accidents per Month Line Chart\n",
    "\n",
    "plt.figure(figsize=(12, 8))\n",
    "sns.lineplot(x='Month', y='Total Accidents', data=monthly_accidents)\n",
    "plt.xticks(rotation=45)\n",
    "plt.title('Total Accidents per Month')\n",
    "plt.show()"
   ]
  },
  {
   "cell_type": "code",
   "execution_count": 24,
   "metadata": {},
   "outputs": [
    {
     "data": {
      "image/png": "[encoded data removed]",
      "text/plain": [
       "<Figure size 864x576 with 1 Axes>"
      ]
     },
     "metadata": {
      "needs_background": "light"
     },
     "output_type": "display_data"
    }
   ],
   "source": [
    "#Total Fatal Injuries per Month Line Chart\n",
    "\n",
    "plt.figure(figsize=(12, 8))\n",
    "sns.lineplot(x='Month', y='Total.Fatal.Injuries', data=monthly_accidents)\n",
    "plt.xticks(rotation=45)\n",
    "plt.ylabel('Total Fatal Injuries')\n",
    "plt.title('Total Fatal Injuries per Month')\n",
    "plt.show()"
   ]
  },
  {
   "cell_type": "code",
   "execution_count": 25,
   "metadata": {
    "scrolled": false
   },
   "outputs": [
    {
     "data": {
      "image/png": "[encoded data removed]",
      "text/plain": [
       "<Figure size 864x576 with 1 Axes>"
      ]
     },
     "metadata": {
      "needs_background": "light"
     },
     "output_type": "display_data"
    }
   ],
   "source": [
    "# Total Fatal Injuries/Total Accident Ratio per Month Line Plot\n",
    "\n",
    "plt.figure(figsize=(12, 8))\n",
    "sns.lineplot(x='Month', y='Safety Ratio', data=monthly_accidents)\n",
    "plt.xticks(rotation=45)\n",
    "plt.title('Total Fatal Injuries/Total Accidents Ratio per Month')\n",
    "plt.show()"
   ]
  },
  {
   "cell_type": "markdown",
   "metadata": {},
   "source": [
    "Although there are many accidents in the summer season the total fatal injuries/total accidents ratio is at its lowest. That could be that there are less flights in the winter seasons which could offset this ratio or accidents that tend to occur in the winter have more fatal injuries as an outcome."
   ]
  },
  {
   "cell_type": "markdown",
   "metadata": {},
   "source": [
    "### Location"
   ]
  },
  {
   "cell_type": "code",
   "execution_count": 26,
   "metadata": {},
   "outputs": [
    {
     "data": {
      "image/png": "[encoded data removed]",
      "text/plain": [
       "<Figure size 1152x576 with 1 Axes>"
      ]
     },
     "metadata": {
      "needs_background": "light"
     },
     "output_type": "display_data"
    }
   ],
   "source": [
    "# Total Accident per State Bar Chart\n",
    "\n",
    "plt.figure(figsize=(16, 8))\n",
    "sns.barplot(x='State', y='Total Accidents', data=state_accident_count)\n",
    "plt.xlabel('State (by State Code)')\n",
    "plt.xticks(rotation=45)\n",
    "plt.title('Total Accidents per State')\n",
    "plt.show()"
   ]
  },
  {
   "cell_type": "code",
   "execution_count": 27,
   "metadata": {
    "scrolled": false
   },
   "outputs": [
    {
     "data": {
      "image/png": "[encoded data removed]",
      "text/plain": [
       "<Figure size 1152x576 with 1 Axes>"
      ]
     },
     "metadata": {
      "needs_background": "light"
     },
     "output_type": "display_data"
    }
   ],
   "source": [
    "# Total Fatal Injuries per State Bar chart\n",
    "\n",
    "plt.figure(figsize=(16, 8))\n",
    "sns.barplot(x='State', y='Total.Fatal.Injuries', data=state_accident_count)\n",
    "plt.xlabel('State (by State Code)')\n",
    "plt.xticks(rotation=45)\n",
    "plt.ylabel('Total Fatal Injuries')\n",
    "plt.title('Total Fatal Injuries per State')\n",
    "plt.show()"
   ]
  },
  {
   "cell_type": "code",
   "execution_count": 28,
   "metadata": {
    "scrolled": false
   },
   "outputs": [
    {
     "data": {
      "image/png": "[encoded data removed]",
      "text/plain": [
       "<Figure size 1152x576 with 1 Axes>"
      ]
     },
     "metadata": {
      "needs_background": "light"
     },
     "output_type": "display_data"
    }
   ],
   "source": [
    "# Total Fatal Accident/Total Accident Ratio per State Bar Chart\n",
    "\n",
    "plt.figure(figsize=(16, 8))\n",
    "sns.barplot(x='State', y='Safety Ratio', data=state_accident_count)\n",
    "plt.xlabel('State (by State Code)')\n",
    "plt.xticks(rotation=45)\n",
    "plt.title('Total Fatal Accidents/Total Accidents Ratio per State')\n",
    "plt.show()"
   ]
  },
  {
   "cell_type": "markdown",
   "metadata": {},
   "source": [
    "From the vizualizations, areas with high populations such as California, Texas, and Florida have higher amounts of accidents most likely due to higher traffic. Fatal Injuries also tend to be higher in the high traffic areas but looking at total fatalities/total accident ratio these high traffic areas tend to be lower than other states."
   ]
  },
  {
   "cell_type": "markdown",
   "metadata": {},
   "source": [
    "### Number of Engines"
   ]
  },
  {
   "cell_type": "code",
   "execution_count": 29,
   "metadata": {},
   "outputs": [
    {
     "data": {
      "image/png": "[encoded data removed]",
      "text/plain": [
       "<Figure size 720x576 with 1 Axes>"
      ]
     },
     "metadata": {
      "needs_background": "light"
     },
     "output_type": "display_data"
    }
   ],
   "source": [
    "# Total Accidents per Number of Engines Bar Chart\n",
    "\n",
    "plt.figure(figsize=(10, 8))\n",
    "sns.barplot(x='Number.of.Engines', y='Total Accidents', data=new_engine_df)\n",
    "plt.xticks(rotation=45)\n",
    "plt.xlabel('Number of Engines')\n",
    "plt.title('Total Accidents per Number of Engines')\n",
    "plt.show()"
   ]
  },
  {
   "cell_type": "code",
   "execution_count": 30,
   "metadata": {
    "scrolled": false
   },
   "outputs": [
    {
     "data": {
      "image/png": "[encoded data removed]",
      "text/plain": [
       "<Figure size 864x576 with 1 Axes>"
      ]
     },
     "metadata": {
      "needs_background": "light"
     },
     "output_type": "display_data"
    }
   ],
   "source": [
    "# Total Fatal Injuries per Number of Engines  Bar Chart\n",
    "\n",
    "plt.figure(figsize=(12, 8))\n",
    "sns.barplot(x='Number.of.Engines', y='Total.Fatal.Injuries', data=new_engine_df)\n",
    "plt.xticks(rotation=45)\n",
    "plt.xlabel('Number of Engines')\n",
    "plt.ylabel('Total Fatal Injuries')\n",
    "plt.title('Total Fatal Injuries per Number of Engines')\n",
    "plt.show()"
   ]
  },
  {
   "cell_type": "code",
   "execution_count": 31,
   "metadata": {
    "scrolled": false
   },
   "outputs": [
    {
     "data": {
      "image/png": "[encoded data removed]",
      "text/plain": [
       "<Figure size 864x576 with 1 Axes>"
      ]
     },
     "metadata": {
      "needs_background": "light"
     },
     "output_type": "display_data"
    }
   ],
   "source": [
    "# Total Fatal Injuries/Total Accidents Ratio per Number of Engines\n",
    "\n",
    "plt.figure(figsize=(12, 8))\n",
    "sns.barplot(x='Number.of.Engines', y='Safety Ratio', data=new_engine_df)\n",
    "plt.xlabel('Number of Engines')\n",
    "plt.xticks(rotation=45)\n",
    "plt.title('Total Fatal Injuries/Total Accidents Ratio per Number of Engines')\n",
    "plt.show()"
   ]
  },
  {
   "cell_type": "markdown",
   "metadata": {},
   "source": [
    "### Four Engine Makes"
   ]
  },
  {
   "cell_type": "code",
   "execution_count": 32,
   "metadata": {
    "scrolled": false
   },
   "outputs": [
    {
     "data": {
      "image/png": "[encoded data removed]",
      "text/plain": [
       "<Figure size 864x576 with 1 Axes>"
      ]
     },
     "metadata": {
      "needs_background": "light"
     },
     "output_type": "display_data"
    }
   ],
   "source": [
    "# Total Accidents per Four Engine Make Bar Chart\n",
    "\n",
    "plt.figure(figsize=(12, 8))\n",
    "sns.barplot(x='Make', y='Total Accidents', data=make_engines)\n",
    "plt.xticks(rotation=45)\n",
    "plt.title('Total Accidents per Four Engine Make')\n",
    "plt.show()"
   ]
  },
  {
   "cell_type": "code",
   "execution_count": 33,
   "metadata": {
    "scrolled": false
   },
   "outputs": [
    {
     "data": {
      "image/png": "[encoded data removed]",
      "text/plain": [
       "<Figure size 864x576 with 1 Axes>"
      ]
     },
     "metadata": {
      "needs_background": "light"
     },
     "output_type": "display_data"
    }
   ],
   "source": [
    "#Total Fatal Injuries per Four Engine Make Bar Chart\n",
    "\n",
    "plt.figure(figsize=(12, 8))\n",
    "sns.barplot(x='Make', y='Total.Fatal.Injuries', data=make_engines)\n",
    "plt.xticks(rotation=45)\n",
    "plt.ylabel('Total Fatal Injuries')\n",
    "plt.title('Total Fatal Injuries per Four Engine Makes')\n",
    "plt.show()"
   ]
  },
  {
   "cell_type": "code",
   "execution_count": 34,
   "metadata": {
    "scrolled": false
   },
   "outputs": [
    {
     "data": {
      "image/png": "[encoded data removed]",
      "text/plain": [
       "<Figure size 864x576 with 1 Axes>"
      ]
     },
     "metadata": {
      "needs_background": "light"
     },
     "output_type": "display_data"
    }
   ],
   "source": [
    "# Total Fatal Injuries/Total Accident Ratio per Four Engine Make\n",
    "\n",
    "plt.figure(figsize=(12, 8))\n",
    "sns.barplot(x='Make', y='Safety Ratio', data=make_engines)\n",
    "plt.xticks(rotation=45)\n",
    "plt.title('Total Fatalities/Total Accidents Ratio per Four Engine Make')\n",
    "plt.show()"
   ]
  },
  {
   "cell_type": "markdown",
   "metadata": {},
   "source": [
    "Total accidents and total fatal injuries tend to decrease as the amount of engines increase. The safety ratio indicates a unexpected large jump for accidents that involve three engines, a further investigation may be needed in that area. Focusing on this trend of more engines less accidents we take this finding and apply it Makes of airplanes that have four engines. Besides Boeing having close to fifty accidents other Makes of airplane have less than ten accidents. Five out of seven of makes have zero fatal injuries. Although the safety ratio for Lockheed is high, the makes with four engines tend to be safe looking at the total fatal injuries and total accidents."
   ]
  },
  {
   "cell_type": "markdown",
   "metadata": {},
   "source": [
    "## Conclusion"
   ]
  },
  {
   "cell_type": "markdown",
   "metadata": {},
   "source": [
    "### Recommendations"
   ]
  },
  {
   "cell_type": "markdown",
   "metadata": {},
   "source": [
    "1: Time-Based Safety Measures:\n",
    "\n",
    "Leverage the insights derived from the dataset's time analysis to implement time-specific safety measures. Identify months with historically higher safety ratios and focus on targeted training programs and operational enhancements during these periods, and enhance communication protocols to address seasonal challenges. \n",
    "\n",
    "2: Regional Safety Initiatives:\n",
    "\n",
    "Based on location-specific safety ratios, introduce region-specific safety initiatives. Collaborate with aviation authorities and local operators in states with lower safety ratios to address regional challenges. Share best practices, and tailor safety protocols to the unique characteristics of each location, thereby contributing to improved safety outcomes.\n",
    "\n",
    "3: Engine Configuration Awareness:\n",
    "\n",
    "Given the dataset's insights into the total fatal injuries, total accidents, and safety ratios; consider promoting the advantages of four-engine aircraft or higher in training modules and operational guidelines. Encourage the company to consider this information in their decision-making processes regarding fleet composition, maintenance planning, and overall risk mitigation strategies.\n",
    "\n",
    "With these recommendations with the time, location, and engine configuration insights provided by the dataset, these measures aim to address potential risk areas within the aviation industry. This approach enhances the effectiveness of risk mitigation strategies, fostering a safe industry, and continuous improvement across different areas of aviation operations."
   ]
  },
  {
   "cell_type": "markdown",
   "metadata": {},
   "source": [
    "### Limitations"
   ]
  },
  {
   "cell_type": "markdown",
   "metadata": {},
   "source": [
    "Correlations identified in the dataset do not necessarily imply causation, other factors not considered in the dataset may influence accident patterns\n",
    "\n",
    "In aviation safety there are usually multiple factors at hand such as human error and mechanical maintenence.\n",
    "\n",
    "\n",
    " \n",
    "\n",
    "\n"
   ]
  },
  {
   "cell_type": "markdown",
   "metadata": {},
   "source": [
    "### Next Steps"
   ]
  },
  {
   "cell_type": "markdown",
   "metadata": {},
   "source": [
    "Deeper exploration may include more information to lower risks even more. Areas for futher exploration in the dataset include, models, weather, and purpose of flight.\n",
    "\n",
    "Additionally, a new investigation of human factors or the occurances of maintenance could also show a higher or lower likelihood of accidents or sustained injuries."
   ]
  }
 ],
 "metadata": {
  "kernelspec": {
   "display_name": "Python (learn-env)",
   "language": "python",
   "name": "learn-env"
  },
  "language_info": {
   "codemirror_mode": {
    "name": "ipython",
    "version": 3
   },
   "file_extension": ".py",
   "mimetype": "text/x-python",
   "name": "python",
   "nbconvert_exporter": "python",
   "pygments_lexer": "ipython3",
   "version": "3.8.5"
  }
 },
 "nbformat": 4,
 "nbformat_minor": 4
}
